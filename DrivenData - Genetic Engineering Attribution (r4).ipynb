{
 "cells": [
  {
   "cell_type": "markdown",
   "metadata": {},
   "source": [
    "# DrivenData - Genetic Engineering Attribution Challenge"
   ]
  },
  {
   "cell_type": "markdown",
   "metadata": {},
   "source": [
    "#### 01-05-2021, additional verification\n",
    "+ tried Baysian Gaussian Mixture for categorizing and additional feature creation. (not effective. may have to create at least 1314 categories to make it work?)\n",
    "+ trained robust scaler only on training data, not for both as previously.\n",
    "+ removed header and footer features since it has not provide major contribution.\n",
    "+ model architecture:\n",
    "    + tried no hidden layers for keras. less time for each epoch but not as effective. take more than 30 epoch to reach 86% and seems it stoped at 88.8% (after 92 epoch)\n",
    "    + 3 layers structure is working for now.\n",
    "    + 4 layers takes longer to train and less effective."
   ]
  },
  {
   "cell_type": "markdown",
   "metadata": {},
   "source": [
    "#### 01-04-2021, additional tryings\n",
    "+ tried to split the headers into cateogorical columns, not effective and takes a great deal of time running\n",
    "+ found out missed out header and footer while running yesterday. added back in and result is as previous, between 89 ~ 91%"
   ]
  },
  {
   "cell_type": "markdown",
   "metadata": {},
   "source": [
    "#### 01-03-2021, additional improvement\n",
    "+ Oversampling with RandomResampling and SMOTE\n",
    "+ test undersampling (not successful)\n",
    "+ implement the ability to show iterative progress of function\n",
    "+ impute N in the DNA sequence (for now, ignore N in the DNA sequence completely.)\n",
    "    - Idea 1 during the n-gram feature generation phase, add the N related feature occurance"
   ]
  },
  {
   "cell_type": "markdown",
   "metadata": {},
   "source": [
    "#### 01-02-2021, Neuron network implemented\n",
    "+ tested saving test data. not a great idea.\n",
    "+ save for neuron network model.\n",
    "+ header feature changed\n",
    "+ added feature for sequence length logic"
   ]
  },
  {
   "cell_type": "markdown",
   "metadata": {},
   "source": [
    "#### 12-19-2020, Group Hackthon collaborated efforts with RFC, Native Bayes,\n",
    "+ RBF and Neuron Network In progress (session 420 and 430)"
   ]
  },
  {
   "cell_type": "markdown",
   "metadata": {},
   "source": [
    "#### 12-10-2020, Vanessa added dataset links "
   ]
  },
  {
   "cell_type": "markdown",
   "metadata": {},
   "source": [
    "#### 12-07-2020, Jim set up Benchmark"
   ]
  },
  {
   "cell_type": "markdown",
   "metadata": {},
   "source": [
    "#### future work\n",
    "+ implement the ability to auto generate and eliminate features\n",
    "+ figure out how to premutate more than 5 n-gram (maybe write one by myself?)\n",
    "+ output spec evaluation\n",
    "+ maybe generate a combined feature based from header and length of the sequence?\n",
    "\n",
    "#### drop\n",
    "\n",
    "+ implement test out RBF. (tried, not working, require way to much of memory for the data after the imputation.\n",
    "    - use guassian process for RBF?\n",
    "+ undersampling try Wilson's Editing approach (failed)"
   ]
  },
  {
   "cell_type": "code",
   "execution_count": 26,
   "metadata": {
    "scrolled": false
   },
   "outputs": [
    {
     "name": "stdout",
     "output_type": "stream",
     "text": [
      "Libraries Loaded\n"
     ]
    }
   ],
   "source": [
    "### Import Libraries\n",
    "\n",
    "from pathlib import Path\n",
    "\n",
    "import pandas as pd\n",
    "import matplotlib.pyplot as plt\n",
    "import numpy as np\n",
    "import seaborn as sns\n",
    "\n",
    "%matplotlib inline\n",
    "sns.set()\n",
    "\n",
    "print(\"Libraries Loaded\")"
   ]
  },
  {
   "cell_type": "code",
   "execution_count": 27,
   "metadata": {},
   "outputs": [],
   "source": [
    "### Auxiliary libraries\n",
    "\n",
    "import winsound as alarm \n",
    "import time\n",
    "\n",
    "### Auxiliary parameter setup\n",
    "\n",
    "duration = 1500  # milliseconds\n",
    "freq = 440  # Hz"
   ]
  },
  {
   "cell_type": "markdown",
   "metadata": {},
   "source": [
    "## 100 Read Data"
   ]
  },
  {
   "cell_type": "code",
   "execution_count": 28,
   "metadata": {},
   "outputs": [],
   "source": [
    "### Following code for reading off of JMO Harddrive\n",
    "\n",
    "#DATA_DIR = 'C:/Users/jorrison/Documents/Home/Harvard/DataMinds/Genetic Engineering/Data/'\n",
    "\n",
    "#train_values = pd.read_csv(DATA_DIR + 'train_values.csv', index_col='sequence_id')\n",
    "#train_labels = pd.read_csv(DATA_DIR + 'train_labels.csv', index_col='sequence_id')\n",
    "#test_values  = pd.read_csv(DATA_DIR + 'test_values.csv' , index_col='sequence_id')\n",
    "\n",
    "#train_values.head()"
   ]
  },
  {
   "cell_type": "code",
   "execution_count": 29,
   "metadata": {},
   "outputs": [],
   "source": [
    "### Read local by roland\n",
    "\n",
    "train_labels = pd.read_csv('train_labels.csv', index_col='sequence_id')\n",
    "train_values = pd.read_csv('train_values.csv', index_col='sequence_id')"
   ]
  },
  {
   "cell_type": "code",
   "execution_count": 30,
   "metadata": {},
   "outputs": [],
   "source": [
    "### remote read\n",
    "\n",
    "#train_values = pd.read_csv('https://www.dropbox.com/s/3atnfvr65oh0y4y/train_values.csv?dl=1', index_col='sequence_id')\n",
    "#train_labels = pd.read_csv('https://www.dropbox.com/s/71yg5f3dbc4h2yd/train_labels.csv?dl=1', index_col='sequence_id')\n",
    "#test_values  = pd.read_csv('https://www.dropbox.com/s/4g1astwaccer5lz/test_values.csv?dl=1' , index_col='sequence_id')\n",
    "\n",
    "# train_values.head()"
   ]
  },
  {
   "cell_type": "markdown",
   "metadata": {},
   "source": [
    "### 110 Explore the Training Data"
   ]
  },
  {
   "cell_type": "markdown",
   "metadata": {},
   "source": [
    "train_values.dtypes"
   ]
  },
  {
   "cell_type": "markdown",
   "metadata": {},
   "source": [
    "### 120 remove the lab has the highest frequency occurance in dataset."
   ]
  },
  {
   "cell_type": "markdown",
   "metadata": {},
   "source": [
    "largelab_rownum = train_labels[ train_labels['I7FXTVDP'] > 0 ].index\n",
    "\n",
    "largelab_rownum.shape\n",
    "\n",
    "largelab_rownum\n",
    "\n",
    "train_labels_dropped = train_labels.drop(largelab_rownum)\n",
    "\n",
    "train_values_dropped = train_values.drop(largelab_rownum)\n",
    "\n",
    "train_labels_dropped.shape\n",
    "\n",
    "train_values_dropped.shape"
   ]
  },
  {
   "cell_type": "markdown",
   "metadata": {},
   "source": [
    "### 130 reduce the output labels dimension to string label text.\n",
    "\n",
    "#lab_ids = pd.DataFrame(train_labels.idxmax(axis=1), columns = ['lab_id'])\n",
    "\n",
    "lab_ids = pd.DataFrame(train_labels_dropped.idxmax(axis=1), columns = ['lab_id'])"
   ]
  },
  {
   "cell_type": "code",
   "execution_count": 31,
   "metadata": {
    "scrolled": true
   },
   "outputs": [
    {
     "data": {
      "text/plain": [
       "count    63017.000000\n",
       "mean      4839.025501\n",
       "std       3883.148431\n",
       "min         20.000000\n",
       "25%        909.000000\n",
       "50%       4741.000000\n",
       "75%       7490.000000\n",
       "max      60099.000000\n",
       "Name: sequence, dtype: float64"
      ]
     },
     "execution_count": 31,
     "metadata": {},
     "output_type": "execute_result"
    }
   ],
   "source": [
    "sequence_lengths = train_values.sequence.apply(len)\n",
    "\n",
    "sequence_lengths.describe()"
   ]
  },
  {
   "cell_type": "markdown",
   "metadata": {},
   "source": [
    "### 140 visualize number of sequence code with length of 2500 or less.\n",
    "sequence_lengths.plot(kind='hist',\n",
    "                     title= 'Distribution of DNA Sequence Length', \n",
    "                     bins = 2500,\n",
    "                     xlim = (0, 2500))   # Suppress a bar longer than 20,000"
   ]
  },
  {
   "cell_type": "markdown",
   "metadata": {},
   "source": [
    "### 150 visualize number of genetic sequence code with length of 1700 or less\n",
    "sequence_lengths[sequence_lengths<1700].plot(kind='hist',\n",
    "                     title= 'Distribution of DNA Sequence Length', \n",
    "                     bins = 100)"
   ]
  },
  {
   "cell_type": "markdown",
   "metadata": {},
   "source": [
    "### 160 extrapolate data with genetic sequence length 1700 or less\n",
    "\n",
    "index_ferdous = sequence_lengths[sequence_lengths<1700].index\n",
    "\n",
    "df_ferdous_values = train_values_dropped.loc[index_ferdous]"
   ]
  },
  {
   "cell_type": "markdown",
   "metadata": {},
   "source": [
    "### 170 visualize the value occurance of other 39 features contained in training values."
   ]
  },
  {
   "cell_type": "markdown",
   "metadata": {},
   "source": [
    "sorted_binary_features = train_values.iloc[:, 1:].mean().sort_values()\n",
    "\n",
    "ax = sorted_binary_features.plot(kind = 'barh',\n",
    "                                stacked = True,\n",
    "                                figsize = (5,12),\n",
    "                                title   = 'Prevalence of Binary Features')\n",
    "ax.set_xlabel('Proportion of sequences')"
   ]
  },
  {
   "cell_type": "markdown",
   "metadata": {},
   "source": [
    "### 175 inspect the output lab occurrance"
   ]
  },
  {
   "cell_type": "markdown",
   "metadata": {},
   "source": [
    "train_labels.sum().describe()"
   ]
  },
  {
   "cell_type": "markdown",
   "metadata": {},
   "source": [
    "### 180 Explore the Test Data\n",
    "\n",
    "skipped, since we can't check the test data result"
   ]
  },
  {
   "cell_type": "markdown",
   "metadata": {},
   "source": [
    "### 190 Explore Training Labels"
   ]
  },
  {
   "cell_type": "markdown",
   "metadata": {
    "scrolled": true
   },
   "source": [
    "train_labels.head()"
   ]
  },
  {
   "cell_type": "code",
   "execution_count": 32,
   "metadata": {
    "scrolled": true
   },
   "outputs": [],
   "source": [
    "# Get the column with the max value in each row\n",
    "\n",
    "lab_ids = pd.DataFrame(train_labels.idxmax(axis=1), columns = ['lab_id'])"
   ]
  },
  {
   "cell_type": "code",
   "execution_count": 33,
   "metadata": {},
   "outputs": [
    {
     "data": {
      "text/plain": [
       "count    1314.000000\n",
       "mean       47.958143\n",
       "std       262.552258\n",
       "min         1.000000\n",
       "25%         9.000000\n",
       "50%        15.000000\n",
       "75%        34.000000\n",
       "max      8286.000000\n",
       "Name: lab_id, dtype: float64"
      ]
     },
     "execution_count": 33,
     "metadata": {},
     "output_type": "execute_result"
    }
   ],
   "source": [
    "##### Get the distribution of lab prevalence in the training set\n",
    "lab_ids['lab_id'].value_counts().describe()"
   ]
  },
  {
   "cell_type": "code",
   "execution_count": 34,
   "metadata": {},
   "outputs": [
    {
     "data": {
      "text/plain": [
       "I7FXTVDP    0.131488\n",
       "RKJHZGDQ    0.043353\n",
       "GTVTUGVY    0.042401\n",
       "A18S09P2    0.016884\n",
       "Q2K8NHZY    0.015440\n",
       "Name: lab_id, dtype: float64"
      ]
     },
     "execution_count": 34,
     "metadata": {},
     "output_type": "execute_result"
    }
   ],
   "source": [
    "#### Sort lab ids by prevalence\n",
    "(lab_ids['lab_id'].value_counts(normalize = True).sort_values(ascending=False)).head()"
   ]
  },
  {
   "cell_type": "markdown",
   "metadata": {},
   "source": [
    "### 200 Enrich Data Sets"
   ]
  },
  {
   "cell_type": "code",
   "execution_count": 35,
   "metadata": {},
   "outputs": [],
   "source": [
    "from itertools import permutations"
   ]
  },
  {
   "cell_type": "markdown",
   "metadata": {},
   "source": [
    "#### 210 Construct Features from DNA Sequences"
   ]
  },
  {
   "cell_type": "markdown",
   "metadata": {},
   "source": [
    "#### 211 create bases from DNA Sequences. (got lazy so I just put bases as values."
   ]
  },
  {
   "cell_type": "markdown",
   "metadata": {},
   "source": [
    "#### 5 element bases\n",
    "bases = set(''.join(train_values.sequence.values))\n",
    "\n",
    "bases5 ={'A', 'C', 'G', 'N', 'T'}\n",
    "bases5"
   ]
  },
  {
   "cell_type": "code",
   "execution_count": 36,
   "metadata": {},
   "outputs": [
    {
     "data": {
      "text/plain": [
       "{'A', 'C', 'G', 'T'}"
      ]
     },
     "execution_count": 36,
     "metadata": {},
     "output_type": "execute_result"
    }
   ],
   "source": [
    "# 4 element bases\n",
    "\n",
    "bases4 ={'A', 'C', 'G', 'T'}\n",
    "bases4"
   ]
  },
  {
   "cell_type": "markdown",
   "metadata": {},
   "source": [
    "#### 212 Reduced Permutation to test out the effect. seems the 2-gram approach is not as good as 4 grams\n",
    "n = 2\n",
    "subsequences = [''.join(permutation) for permutation in permutations(bases, r=n)]\n",
    "print(f\"Number of subsequences: {len(subsequences)}\")\n",
    "subsequences[:10]"
   ]
  },
  {
   "cell_type": "markdown",
   "metadata": {},
   "source": [
    "#### 212 Example of built-in count method on strings\n",
    "Because it's non-overlapping, \"atta\" is only counted twice\n",
    "\"gattattattaca\".count(\"atta\")"
   ]
  },
  {
   "cell_type": "markdown",
   "metadata": {},
   "source": [
    "#### 212 Counting the Subsequences"
   ]
  },
  {
   "cell_type": "code",
   "execution_count": 37,
   "metadata": {
    "scrolled": true
   },
   "outputs": [
    {
     "name": "stdout",
     "output_type": "stream",
     "text": [
      "1  gram variation count:  4\n",
      "2  gram variation count:  12\n",
      "3  gram variation count:  24\n",
      "4  gram variation count:  24\n",
      "n gram permutation time:  0.00022859999999980118\n",
      " |██████████████████████████████████████████████████| 100.0% \n"
     ]
    }
   ],
   "source": [
    "# Calculate 4 base features on our training set (ferdous training set)\n",
    "features_4b = get_nbase_features(train_values, bases4)\n",
    "\n",
    "alarm.Beep(freq,duration)"
   ]
  },
  {
   "cell_type": "markdown",
   "metadata": {},
   "source": [
    "+ Calculate 5 base features on our training set (ferdous training set)\n",
    "+ currently not as effective as bases4\n",
    "\n",
    "features_5b = get_nbase_features(train_values, bases5)"
   ]
  },
  {
   "cell_type": "markdown",
   "metadata": {},
   "source": [
    "#### 221 Header and Footer ordinate and binary"
   ]
  },
  {
   "cell_type": "code",
   "execution_count": 147,
   "metadata": {},
   "outputs": [],
   "source": [
    "#### 221 Right footer amino stop sequence extraction function\n",
    "\n",
    "rightAMINO=lambda x: x[-3:]\n",
    "\n",
    "#### 222 Left header 5 prime UTR extraction\n",
    "\n",
    "fivePUTR=lambda x: x[0:15]\n",
    "\n",
    "#### 223 extract both footer and header for value validation and evaluation\n",
    "\n",
    "footer = train_values.sequence.apply(rightAMINO)\n",
    "header = train_values.sequence.apply(fivePUTR)\n",
    "\n",
    "#### 225 use label encoder to transfer all the categorical variables\n",
    "####     into numerical variables\n",
    "\n",
    "from sklearn.preprocessing import LabelEncoder\n",
    "\n",
    "headerEnc = LabelEncoder()\n",
    "header_code = headerEnc.fit_transform(header)\n",
    "#all_features[\"header\"]=pd.Series(header_code,index = train_values.index)\n",
    "\n",
    "footerEnc = LabelEncoder()\n",
    "footer_code = footerEnc.fit_transform(footer)\n",
    "#all_features[\"footer\"]=pd.Series(footer_code,index = train_values.index)"
   ]
  },
  {
   "cell_type": "code",
   "execution_count": 148,
   "metadata": {},
   "outputs": [],
   "source": [
    "header_bin = ordin2Bin(pd.Series(header_code,index = train_values.index),\"header\")\n",
    "footer_bin = ordin2Bin(pd.Series(footer_code,index = train_values.index),\"footer\")"
   ]
  },
  {
   "cell_type": "markdown",
   "metadata": {},
   "source": [
    "#### 230 add binary feature for sequence length below 1750 and above 1750"
   ]
  },
  {
   "cell_type": "code",
   "execution_count": 149,
   "metadata": {},
   "outputs": [],
   "source": [
    "bins = [0,1750,np.inf]\n",
    "labels = [0,1]\n",
    "\n",
    "len_bin = pd.cut(sequence_lengths,bins=bins,labels=labels)\n",
    "len_bin.columns = \"length seperation\""
   ]
  },
  {
   "cell_type": "markdown",
   "metadata": {},
   "source": [
    "#### 240 all features combined."
   ]
  },
  {
   "cell_type": "code",
   "execution_count": 150,
   "metadata": {},
   "outputs": [],
   "source": [
    "all_features=train_values.drop(\"sequence\",axis=1).join([len_bin,features_4b])"
   ]
  },
  {
   "cell_type": "markdown",
   "metadata": {},
   "source": [
    "\n",
    "### 300 Split and scale"
   ]
  },
  {
   "cell_type": "markdown",
   "metadata": {},
   "source": [
    "#### 310 Break apart Training Data Set into Train-Validate-Test"
   ]
  },
  {
   "cell_type": "code",
   "execution_count": 151,
   "metadata": {},
   "outputs": [],
   "source": [
    "from sklearn.model_selection import train_test_split"
   ]
  },
  {
   "cell_type": "markdown",
   "metadata": {},
   "source": [
    "#### 311 split the data into training and validation sets. for multiple columns binary output split."
   ]
  },
  {
   "cell_type": "markdown",
   "metadata": {
    "scrolled": true
   },
   "source": [
    "X,X_validate,y_lab,y_lab_validate = randomSplit_lab(all_features,lab_ids,TEST_SIZE=0.2)"
   ]
  },
  {
   "cell_type": "code",
   "execution_count": 152,
   "metadata": {},
   "outputs": [],
   "source": [
    "X,X_validate,y_cat,y_cat_validate = train_test_split(all_features,train_labels,test_size=0.2)"
   ]
  },
  {
   "cell_type": "markdown",
   "metadata": {},
   "source": [
    "#### 312 save the split into files so we don't have to split the file but just load the files.\n",
    "\n",
    "start = time.perf_counter()\n",
    "\n",
    "X_bin.to_csv(\"X_bin-2021-01-02.csv\")\n",
    "X_bin_validate.to_csv(\"X_bin_validate-2021-01-02.csv\")\n",
    "y_bin.to_csv(\"y_bin-2021-01-02.csv\")\n",
    "y_bin_validate.to_csv(\"y_bin_validate-2021-01-02.csv\")\n",
    "end   = time.perf_counter()\n",
    "\n",
    "print(end-start)"
   ]
  },
  {
   "cell_type": "markdown",
   "metadata": {},
   "source": [
    "#### 320 Oversampling minorities."
   ]
  },
  {
   "cell_type": "markdown",
   "metadata": {},
   "source": [
    "from imblearn.over_sampling import SMOTE, BorderlineSMOTE, KMeansSMOTE,ADASYN\n",
    "from imblearn.over_sampling import RandomOverSampler\n",
    "import math"
   ]
  },
  {
   "cell_type": "markdown",
   "metadata": {},
   "source": [
    "#### 321 Random over sampling"
   ]
  },
  {
   "cell_type": "markdown",
   "metadata": {},
   "source": [
    "y_lab_counts = pd.DataFrame(y_lab.value_counts(),columns=[\"n_train\"])\n",
    "y_lab_counts[\"n_adjusted\"] = (y_lab_counts[\"n_train\"].apply(math.log)+1)*7\n",
    "y_lab_counts[\"n_max\"]=y_lab_counts.max(axis=1)\n",
    "\n",
    "df_sampling = y_lab_counts[\"n_max\"].astype(\"int32\")\n",
    "try:\n",
    "    index = [i[0] for i in list(df_sampling.keys())]\n",
    "    values = list(df_sampling.values)\n",
    "    \n",
    "    sampling_strategy = pd.Series(values,index = index).to_dict()\n",
    "except:\n",
    "    sampling_strategy = y_lab_counts[\"n_max\"].astype(\"int32\").to_dict()\n",
    "\n",
    "\n",
    "#sampling_strategy = sampling_strategy.to_dict()\n",
    "\n",
    "if \"df_top10_categorical\" in __name__:\n",
    "    print(\"yes\")\n",
    "else:\n",
    "    print(\"no\")\n",
    "    #sampling_strategy = (2-(df_top10_categorical+1))*sampling_stragegy"
   ]
  },
  {
   "cell_type": "markdown",
   "metadata": {},
   "source": [
    "#### confusion matrix"
   ]
  },
  {
   "cell_type": "markdown",
   "metadata": {},
   "source": [
    "sampler = RandomOverSampler(sampling_strategy= sampling_strategy)\n",
    "\n",
    "X_R_res,y_R_lab_res = sampler.fit_resample(X,y_lab)"
   ]
  },
  {
   "cell_type": "markdown",
   "metadata": {},
   "source": [
    "#### 322 SMOTE over sampling"
   ]
  },
  {
   "cell_type": "markdown",
   "metadata": {},
   "source": [
    "sm = SMOTE(sampling_strategy='minority',n_jobs = 4)\n",
    "X_res,y_lab_res=sm.fit_resample(X_R_res,y_R_lab_res)\n",
    "\n",
    "alarm.Beep(freq,duration)"
   ]
  },
  {
   "cell_type": "markdown",
   "metadata": {},
   "source": [
    "#### 330 undersampling attempts with (apparently only if I include not minority, there will be undersampling and it resulted a few lab samples were remove from the records.)\n",
    "\n",
    "+ NeighbourhoodCleaningRule\n",
    "+ AllKNN\n",
    "+ EditedNearestNeighbours"
   ]
  },
  {
   "cell_type": "markdown",
   "metadata": {},
   "source": [
    "#### 331 NeighbourhoodCleaningRule"
   ]
  },
  {
   "cell_type": "markdown",
   "metadata": {},
   "source": [
    "from imblearn.under_sampling import NeighbourhoodCleaningRule\n",
    "\n",
    "ncr = NeighbourhoodCleaningRule(sampling_strategy=\"majority\",n_jobs=4)\n",
    "X_resampled, y_resampled = ncr.fit_resample(X_res.to_numpy(), y_cat_res.to_numpy())\n",
    "\n",
    "alarm.Beep(freq,duration)"
   ]
  },
  {
   "cell_type": "markdown",
   "metadata": {},
   "source": [
    "#### 332 EditedNearestNeighbours"
   ]
  },
  {
   "cell_type": "markdown",
   "metadata": {},
   "source": [
    "from imblearn.under_sampling import EditedNearestNeighbours\n",
    "\n",
    "ENN = EditedNearestNeighbours(n_jobs=4)\n",
    "X_resampled, y_resampled = ENN.fit_resample(X_res.to_numpy(), y_cat_res.to_numpy())\n",
    "\n",
    "alarm.Beep(freq,duration)"
   ]
  },
  {
   "cell_type": "markdown",
   "metadata": {},
   "source": [
    "#### 340 Create Baysian Gaussian Mixture features"
   ]
  },
  {
   "cell_type": "markdown",
   "metadata": {},
   "source": [
    "X_res,BGM = BGMfeatureGen(X_res)"
   ]
  },
  {
   "cell_type": "markdown",
   "metadata": {},
   "source": [
    "#### 380 scale all the features across the columns"
   ]
  },
  {
   "cell_type": "code",
   "execution_count": 153,
   "metadata": {},
   "outputs": [],
   "source": [
    "from sklearn.preprocessing import StandardScaler,RobustScaler,MinMaxScaler\n",
    "\n",
    "default_scaler = RobustScaler(with_centering=False)\n",
    "#default_scaler = MinMaxScaler()\n",
    "default_scaler.fit(X)\n",
    "X_scaled = pd.DataFrame(default_scaler.transform(X),columns = X.columns,index = X.index)\n",
    "X_scaled_validate = pd.DataFrame(default_scaler.transform(X_validate),columns = X_validate.columns,index = X_validate.index)"
   ]
  },
  {
   "cell_type": "markdown",
   "metadata": {},
   "source": []
  },
  {
   "cell_type": "markdown",
   "metadata": {},
   "source": []
  },
  {
   "cell_type": "markdown",
   "metadata": {},
   "source": [
    "#### 390 create categorical output set for neuron network to train on"
   ]
  },
  {
   "cell_type": "markdown",
   "metadata": {},
   "source": [
    "y_cat_res = pd.get_dummies(y_lab_res)\n",
    "y_cat_validate = pd.get_dummies(y_lab_validate)"
   ]
  },
  {
   "cell_type": "markdown",
   "metadata": {},
   "source": [
    "#### 391 a quick validation to check both the train and validate have covered\n",
    "the whole spectrum of the output lab labels. for categorical output only\n"
   ]
  },
  {
   "cell_type": "code",
   "execution_count": 154,
   "metadata": {},
   "outputs": [
    {
     "name": "stdout",
     "output_type": "stream",
     "text": [
      "No of records in training set:  50413\n",
      "No of records in validate set:  12604\n",
      "Labs have 0 record in training set: Series([], dtype: float64)\n",
      "Labs have 0 record in validate set: 03GRNN7N    0.0\n",
      "0L3Y6ZB2    0.0\n",
      "13LZE1F7    0.0\n",
      "1EDZ6CA7    0.0\n",
      "1KZHNVYR    0.0\n",
      "           ... \n",
      "XU8GASLQ    0.0\n",
      "Y5YH740Y    0.0\n",
      "YY5Y32CI    0.0\n",
      "Z8BWVZZX    0.0\n",
      "ZB6DPIG5    0.0\n",
      "Length: 119, dtype: float64\n"
     ]
    }
   ],
   "source": [
    "print('No of records in training set: ',y_cat.shape[0])\n",
    "print('No of records in validate set: ',y_cat_validate.shape[0])\n",
    "\n",
    "print('Labs have 0 record in training set: '+str(y_cat.sum()[y_cat.sum()==0]))\n",
    "print('Labs have 0 record in validate set: '+str(y_cat_validate.sum()[y_cat_validate.sum()==0]))"
   ]
  },
  {
   "cell_type": "markdown",
   "metadata": {},
   "source": [
    "### 400 ML Model\n"
   ]
  },
  {
   "cell_type": "code",
   "execution_count": 155,
   "metadata": {},
   "outputs": [],
   "source": [
    "from sklearn.model_selection import GridSearchCV\n",
    "featureLS = list(X_scaled.columns)"
   ]
  },
  {
   "cell_type": "markdown",
   "metadata": {},
   "source": [
    "#### 410 Random Forest (functional)"
   ]
  },
  {
   "cell_type": "markdown",
   "metadata": {},
   "source": [
    "from sklearn.ensemble import RandomForestClassifier\n",
    "\n",
    "rf = RandomForestClassifier(n_estimators =400,\n",
    "                            class_weight=\"balanced\",\n",
    "                            max_depth =10,\n",
    "                            bootstrap =False,\n",
    "                            n_jobs = 5)\n"
   ]
  },
  {
   "cell_type": "markdown",
   "metadata": {},
   "source": [
    "#### fit our model\n",
    "start = time.perf_counter()\n",
    "rf.fit(X_res,y_lab_res)\n",
    "end   = time.perf_counter()\n",
    "\n",
    "print(end-start)"
   ]
  },
  {
   "cell_type": "markdown",
   "metadata": {},
   "source": [
    "#### validation evaluation"
   ]
  },
  {
   "cell_type": "markdown",
   "metadata": {},
   "source": [
    "start = time.perf_counter()\n",
    "\n",
    "df_rf_predict= rf.predict(X_validate)\n",
    "top10_result=top10_accuracy_label(rf, X_validate, y_lab_validate.to_numpy())\n",
    "\n",
    "end   = time.perf_counter()\n",
    "\n",
    "print(\"Top 10 value accuracy:\"+str(top10_result))\n",
    "print(\"Top 10 value process time:\"+str(end-start))"
   ]
  },
  {
   "cell_type": "markdown",
   "metadata": {},
   "source": [
    "#### just a note\n",
    "\n",
    "+ changing the estimator number to 400 improved the result significantly\n",
    "+ increase the depth to 10 improved the result.\n",
    "+ scaling the features improve the result by 4%"
   ]
  },
  {
   "cell_type": "markdown",
   "metadata": {},
   "source": [
    "#### 420 Keras neuro-network (not functional yet, use with caution.)"
   ]
  },
  {
   "cell_type": "code",
   "execution_count": 156,
   "metadata": {
    "scrolled": true
   },
   "outputs": [],
   "source": [
    "from keras.models import Sequential,load_model\n",
    "from keras.layers import Dense\n",
    "from sklearn.preprocessing import OneHotEncoder\n",
    "from keras.metrics import BinaryAccuracy\n",
    "from keras.metrics import top_k_categorical_accuracy\n",
    "import functools"
   ]
  },
  {
   "cell_type": "markdown",
   "metadata": {},
   "source": [
    "#### 421 Load previously saved Neuron Network\n",
    "\n",
    "keras_nn = load_model(\"3l_nnet_2021-01-05-1300.nn\")"
   ]
  },
  {
   "cell_type": "markdown",
   "metadata": {},
   "source": [
    "#### 422 top 10 categorical accuracy metrics function"
   ]
  },
  {
   "cell_type": "code",
   "execution_count": 157,
   "metadata": {},
   "outputs": [],
   "source": [
    "top10_acc = functools.partial(top_k_categorical_accuracy, k=10)\n",
    "top10_acc.__name__ = 'top10_acc'\n"
   ]
  },
  {
   "cell_type": "code",
   "execution_count": 1,
   "metadata": {},
   "outputs": [
    {
     "ename": "NameError",
     "evalue": "name 'X_scaled' is not defined",
     "output_type": "error",
     "traceback": [
      "\u001b[1;31m---------------------------------------------------------------------------\u001b[0m",
      "\u001b[1;31mNameError\u001b[0m                                 Traceback (most recent call last)",
      "\u001b[1;32m<ipython-input-1-fd5293bdc7f6>\u001b[0m in \u001b[0;36m<module>\u001b[1;34m\u001b[0m\n\u001b[1;32m----> 1\u001b[1;33m \u001b[0minput_dim\u001b[0m \u001b[1;33m=\u001b[0m \u001b[0mX_scaled\u001b[0m\u001b[1;33m.\u001b[0m\u001b[0mshape\u001b[0m\u001b[1;33m[\u001b[0m\u001b[1;36m1\u001b[0m\u001b[1;33m]\u001b[0m\u001b[1;33m\u001b[0m\u001b[1;33m\u001b[0m\u001b[0m\n\u001b[0m\u001b[0;32m      2\u001b[0m \u001b[0moutput_dim\u001b[0m \u001b[1;33m=\u001b[0m \u001b[0my_cat\u001b[0m\u001b[1;33m.\u001b[0m\u001b[0mshape\u001b[0m\u001b[1;33m[\u001b[0m\u001b[1;36m1\u001b[0m\u001b[1;33m]\u001b[0m\u001b[1;33m\u001b[0m\u001b[1;33m\u001b[0m\u001b[0m\n\u001b[0;32m      3\u001b[0m \u001b[1;33m\u001b[0m\u001b[0m\n\u001b[0;32m      4\u001b[0m \u001b[0mnnet\u001b[0m \u001b[1;33m=\u001b[0m \u001b[0mSequential\u001b[0m\u001b[1;33m(\u001b[0m\u001b[1;33m)\u001b[0m\u001b[1;33m\u001b[0m\u001b[1;33m\u001b[0m\u001b[0m\n\u001b[0;32m      5\u001b[0m \u001b[0mnnet\u001b[0m\u001b[1;33m.\u001b[0m\u001b[0madd\u001b[0m\u001b[1;33m(\u001b[0m\u001b[0mDense\u001b[0m\u001b[1;33m(\u001b[0m\u001b[0minput_dim\u001b[0m\u001b[1;33m+\u001b[0m\u001b[1;36m1\u001b[0m\u001b[1;33m,\u001b[0m\u001b[0mactivation\u001b[0m \u001b[1;33m=\u001b[0m \u001b[1;34m\"tanh\"\u001b[0m\u001b[1;33m,\u001b[0m\u001b[0minput_dim\u001b[0m \u001b[1;33m=\u001b[0m\u001b[0minput_dim\u001b[0m\u001b[1;33m)\u001b[0m\u001b[1;33m)\u001b[0m\u001b[1;33m\u001b[0m\u001b[1;33m\u001b[0m\u001b[0m\n",
      "\u001b[1;31mNameError\u001b[0m: name 'X_scaled' is not defined"
     ]
    }
   ],
   "source": [
    "input_dim = scaled.shape[1]\n",
    "output_dim = y_cat.shape[1]\n",
    "\n",
    "nnet = Sequential()\n",
    "nnet.add(Dense(input_dim+1,activation = \"tanh\",input_dim =input_dim))\n",
    "nnet.add(Dense(output_dim+1, activation='relu'))\n",
    "nnet.add(Dense(output_dim, activation='softmax'))\n",
    "# Compile model"
   ]
  },
  {
   "cell_type": "markdown",
   "metadata": {},
   "source": [
    "#### 422 use weighted categorical crossentropy loss function"
   ]
  },
  {
   "cell_type": "markdown",
   "metadata": {},
   "source": [
    "weights = df_top10_weight\n",
    "\n",
    "mohammed.compile(loss=weighted_categorical_crossentropy(weights), \n",
    "                 optimizer='adam',\n",
    "                 metrics=[top10_acc])"
   ]
  },
  {
   "cell_type": "code",
   "execution_count": 159,
   "metadata": {},
   "outputs": [],
   "source": [
    "nnet.compile(loss=\"categorical_crossentropy\", \n",
    "                 optimizer='adam',\n",
    "                 metrics=[top10_acc])"
   ]
  },
  {
   "cell_type": "code",
   "execution_count": 160,
   "metadata": {
    "scrolled": false
   },
   "outputs": [
    {
     "name": "stdout",
     "output_type": "stream",
     "text": [
      "Epoch 1/7\n",
      "1576/1576 [==============================] - 30s 19ms/step - loss: 3.2245 - top10_acc: 0.6841\n",
      "Epoch 2/7\n",
      "1576/1576 [==============================] - 30s 19ms/step - loss: 1.8822 - top10_acc: 0.8541\n",
      "Epoch 3/7\n",
      "1576/1576 [==============================] - 30s 19ms/step - loss: 1.4761 - top10_acc: 0.9016 2s - loss - ETA: 0s - loss: 1.4765 - top10\n",
      "Epoch 4/7\n",
      "1576/1576 [==============================] - 31s 20ms/step - loss: 1.2122 - top10_acc: 0.9317\n",
      "Epoch 5/7\n",
      "1576/1576 [==============================] - 32s 20ms/step - loss: 1.0128 - top10_acc: 0.9532 0s - loss: 1.0131 - top10_acc: 0.953\n",
      "Epoch 6/7\n",
      "1576/1576 [==============================] - 31s 20ms/step - loss: 0.8569 - top10_acc: 0.9675\n",
      "Epoch 7/7\n",
      "1576/1576 [==============================] - 32s 20ms/step - loss: 0.7378 - top10_acc: 0.9773\n"
     ]
    }
   ],
   "source": [
    "train_history = nnet.fit(X_scaled,y_cat,epochs=7)\n",
    "alarm.Beep(freq, duration)"
   ]
  },
  {
   "cell_type": "code",
   "execution_count": 161,
   "metadata": {},
   "outputs": [
    {
     "name": "stdout",
     "output_type": "stream",
     "text": [
      "trainning parameters:  {'verbose': 1, 'epochs': 7, 'steps': 1576}\n"
     ]
    },
    {
     "data": {
      "text/plain": [
       "[<matplotlib.lines.Line2D at 0x26c9cdbf190>]"
      ]
     },
     "execution_count": 161,
     "metadata": {},
     "output_type": "execute_result"
    },
    {
     "data": {
      "image/png": "[encoded data removed]",
      "text/plain": [
       "<Figure size 432x288 with 1 Axes>"
      ]
     },
     "metadata": {},
     "output_type": "display_data"
    }
   ],
   "source": [
    "print(\"trainning parameters: \",train_history.params)\n",
    "plt.plot(train_history.history[\"loss\"])\n",
    "plt.plot(train_history.history[\"top10_acc\"])"
   ]
  },
  {
   "cell_type": "markdown",
   "metadata": {},
   "source": [
    "X_validate_t,BGM = BGMfeatureGen(X=X_validate,BGM=BGM)"
   ]
  },
  {
   "cell_type": "code",
   "execution_count": 162,
   "metadata": {
    "scrolled": true
   },
   "outputs": [
    {
     "name": "stdout",
     "output_type": "stream",
     "text": [
      "Top 1 Validation Accuracy:  0.699857188194224\n",
      "Top 10 Validation Accuracy:  0.9064582672167566\n",
      "Evaluation process time:  3.8446800999954576\n"
     ]
    }
   ],
   "source": [
    "start = time.perf_counter()\n",
    "nnet_predict = nnet.predict(X_scaled_validate)\n",
    "df_nnet_predict = pd.DataFrame(nnet_predict,index = y_cat_validate.index,columns = y_cat.columns)\n",
    "\n",
    "df_top1_validation  = top1_accuracy_cat(df_nnet_predict,y_cat_validate)\n",
    "df_top10_validation = top10_accuracy_cat(df_nnet_predict,y_cat_validate)\n",
    "\n",
    "end   = time.perf_counter()\n",
    "\n",
    "print(\"Evaluation process time: \",end-start)"
   ]
  },
  {
   "cell_type": "code",
   "execution_count": 163,
   "metadata": {
    "scrolled": false
   },
   "outputs": [
    {
     "name": "stdout",
     "output_type": "stream",
     "text": [
      "----top 1 categorical result----\n"
     ]
    },
    {
     "data": {
      "image/png": "[encoded data removed]",
      "text/plain": [
       "<Figure size 432x288 with 1 Axes>"
      ]
     },
     "metadata": {},
     "output_type": "display_data"
    },
    {
     "name": "stdout",
     "output_type": "stream",
     "text": [
      "categorical accuracy:  count    1195.000000\n",
      "mean        0.531983\n",
      "std         0.383486\n",
      "min         0.000000\n",
      "25%         0.142857\n",
      "50%         0.500000\n",
      "75%         0.953835\n",
      "max         1.000000\n",
      "dtype: float64\n",
      "----top 10 categorical result----\n"
     ]
    },
    {
     "data": {
      "image/png": "[encoded data removed]",
      "text/plain": [
       "<Figure size 432x288 with 1 Axes>"
      ]
     },
     "metadata": {},
     "output_type": "display_data"
    },
    {
     "name": "stdout",
     "output_type": "stream",
     "text": [
      "categorical accuracy:  count    1195.000000\n",
      "mean        0.768064\n",
      "std         0.322588\n",
      "min         0.000000\n",
      "25%         0.600000\n",
      "50%         0.981132\n",
      "75%         1.000000\n",
      "max         1.000000\n",
      "dtype: float64\n"
     ]
    }
   ],
   "source": [
    "print(\"----top 1 categorical result----\")\n",
    "df_top1_categorical,df_top1_weight= categoricalAccuracy(df_top1_validation,y_cat_validate)\n",
    "\n",
    "print(\"----top 10 categorical result----\")\n",
    "df_top10_categorical,df_top10_weight = categoricalAccuracy(df_top10_validation,y_cat_validate)"
   ]
  },
  {
   "cell_type": "code",
   "execution_count": 448,
   "metadata": {
    "scrolled": true
   },
   "outputs": [
    {
     "name": "stdout",
     "output_type": "stream",
     "text": [
      "INFO:tensorflow:Assets written to: 3l_nnet_2021-01-05-1800\\assets\n"
     ]
    }
   ],
   "source": [
    "#### 429 Save neuron networks\n",
    "\n",
    "nnet.save(\"3l_nnet_2021-01-05-1800\")"
   ]
  },
  {
   "cell_type": "code",
   "execution_count": 449,
   "metadata": {
    "scrolled": true
   },
   "outputs": [
    {
     "data": {
      "text/plain": [
       "<AxesSubplot:>"
      ]
     },
     "execution_count": 449,
     "metadata": {},
     "output_type": "execute_result"
    },
    {
     "data": {
      "image/png": "[encoded data removed]",
      "text/plain": [
       "<Figure size 432x288 with 1 Axes>"
      ]
     },
     "metadata": {},
     "output_type": "display_data"
    }
   ],
   "source": [
    "#### 428 first layer neurons weight result check.\n",
    "df_feature_weight = pd.DataFrame(nnet.get_weights()[0],index = X.columns)\n",
    "\n",
    "df_feature_weight.max().hist()\n",
    "df_feature_weight.mean().hist()"
   ]
  },
  {
   "cell_type": "code",
   "execution_count": 58,
   "metadata": {},
   "outputs": [],
   "source": [
    "nnet_predict_cm = pd.DataFrame(df_nnet_predict.idxmax(axis=1), columns = ['lab_id'])\n",
    "y_cat_cm = pd.DataFrame(y_cat_validate.idxmax(axis=1), columns = ['lab_id'])"
   ]
  },
  {
   "cell_type": "code",
   "execution_count": 65,
   "metadata": {},
   "outputs": [],
   "source": [
    "from sklearn.metrics import confusion_matrix\n",
    "\n",
    "df_new = confusion_matrix(y_cat_cm,nnet_predict_cm, normalize=\"true\")"
   ]
  },
  {
   "cell_type": "code",
   "execution_count": null,
   "metadata": {},
   "outputs": [],
   "source": []
  },
  {
   "cell_type": "markdown",
   "metadata": {},
   "source": [
    "#### 430 X boost (functional but took a long time.)"
   ]
  },
  {
   "cell_type": "markdown",
   "metadata": {},
   "source": [
    "from xgboost.sklearn import XGBClassifier\n",
    "\n",
    "xgb = XGBClassifier(n_estimators=400,learning_rate=0.05)"
   ]
  },
  {
   "cell_type": "markdown",
   "metadata": {
    "scrolled": true
   },
   "source": [
    "xgb.fit(X_res,y_lab)"
   ]
  },
  {
   "cell_type": "markdown",
   "metadata": {},
   "source": [
    "start = time.perf_counter()\n",
    "result= xgb.score(X_validate, y_lab_validate)\n",
    "end   = time.perf_counter()\n",
    "\n",
    "print(result)\n",
    "print(end-start)\n",
    "\n",
    "start = time.perf_counter()\n",
    "top10_result=top10_accuracy_label(xgb, X_validate, y_lab_validate.to_numpy())\n",
    "end   = time.perf_counter()\n",
    "\n",
    "print(top10_result)\n",
    "print(end-start)"
   ]
  },
  {
   "cell_type": "markdown",
   "metadata": {},
   "source": [
    "#### 440 MultinomialNB (functional)"
   ]
  },
  {
   "cell_type": "code",
   "execution_count": null,
   "metadata": {},
   "outputs": [],
   "source": [
    "from sklearn.naive_bayes import MultinomialNB\n",
    "from sklearn.inspection import permutation_importance"
   ]
  },
  {
   "cell_type": "markdown",
   "metadata": {},
   "source": []
  },
  {
   "cell_type": "code",
   "execution_count": null,
   "metadata": {},
   "outputs": [],
   "source": [
    "MNB = MultinomialNB(alpha=0.001)"
   ]
  },
  {
   "cell_type": "code",
   "execution_count": null,
   "metadata": {
    "scrolled": true
   },
   "outputs": [],
   "source": [
    "MNB.fit(X_scaled,y_lab_res)\n",
    "\n",
    "alarm.Beep(freq,duration)"
   ]
  },
  {
   "cell_type": "code",
   "execution_count": null,
   "metadata": {},
   "outputs": [],
   "source": [
    "start = time.perf_counter()\n",
    "result= MNB.score(X_v, y_lab_validate)\n",
    "\n",
    "print(\"Single value accuracy rating:\",result)\n",
    "\n",
    "top10_result=top10_accuracy_label(MNB, X_v, y_lab_validate.to_numpy())\n",
    "end   = time.perf_counter()\n",
    "\n",
    "print(\"Top 10 value accuracy:\",top10_result)\n",
    "print(\"Process time:\",end-start)"
   ]
  },
  {
   "cell_type": "markdown",
   "metadata": {},
   "source": [
    "param_metric = {\"alpha\":[0.005,0.001,0.0005],\n",
    "               \"fit_prior\":[True]}\n",
    "\n",
    "\n",
    "GS_MNB = GridSearchCV(MNB, \n",
    "                      param_grid=param_metric,\n",
    "                      scoring=\"accuracy\",\n",
    "                      n_jobs= 4,\n",
    "                      verbose = 1)"
   ]
  },
  {
   "cell_type": "markdown",
   "metadata": {
    "scrolled": true
   },
   "source": [
    "MNB_best = GS_MNB.best_estimator_\n",
    "\n",
    "start = time.perf_counter()\n",
    "result= MNB_best.score(X_validate, y_lab_validate)\n",
    "end   = time.perf_counter()\n",
    "\n",
    "print(\"Single value accuracy rating:\" + str(result))\n",
    "print(\"Single value process time:\"+ str(end-start))\n",
    "\n",
    "start = time.perf_counter()\n",
    "top10_result=top10_accuracy_label(MNB_best, X_validate, y_lab_validate.to_numpy())\n",
    "end   = time.perf_counter()\n",
    "\n",
    "print(\"Top 10 value accuracy:\"+str(top10_result))\n",
    "print(\"Top 10 value process time:\"+str(end-start))"
   ]
  },
  {
   "cell_type": "markdown",
   "metadata": {},
   "source": [
    "#### 441 get premutation importance for each feature."
   ]
  },
  {
   "cell_type": "code",
   "execution_count": null,
   "metadata": {},
   "outputs": [],
   "source": [
    "start = time.perf_counter()\n",
    "r = permutation_importance(MNB,\n",
    "                           X_v,\n",
    "                           y_lab_validate,\n",
    "                           n_repeats=30,\n",
    "                           n_jobs = 4,\n",
    "                           random_state=42)\n",
    "end   = time.perf_counter()\n",
    "\n",
    "print(\"Premutation importance process time:\"+ str(end-start))\n"
   ]
  },
  {
   "cell_type": "code",
   "execution_count": null,
   "metadata": {},
   "outputs": [],
   "source": [
    "effectives = getEffective(r,featureLS)"
   ]
  },
  {
   "cell_type": "code",
   "execution_count": null,
   "metadata": {},
   "outputs": [],
   "source": [
    "alarm.Beep(freq,duration)"
   ]
  },
  {
   "cell_type": "markdown",
   "metadata": {},
   "source": [
    "#### 442 refit the Input matrix with effective feature for MNB"
   ]
  },
  {
   "cell_type": "code",
   "execution_count": null,
   "metadata": {},
   "outputs": [],
   "source": [
    "X_effectives = X_scaled[effectives]\n",
    "X_effectives.head(5)"
   ]
  },
  {
   "cell_type": "markdown",
   "metadata": {},
   "source": [
    "#### 443 try it again with the MNB"
   ]
  },
  {
   "cell_type": "code",
   "execution_count": null,
   "metadata": {},
   "outputs": [],
   "source": [
    "MNB.fit(X_effectives,y_lab_res)"
   ]
  },
  {
   "cell_type": "code",
   "execution_count": null,
   "metadata": {},
   "outputs": [],
   "source": [
    "start = time.perf_counter()\n",
    "result= MNB.score(X_v[effectives], y_lab_validate)\n",
    "end   = time.perf_counter()\n",
    "\n",
    "print(\"Single value accuracy rating:\" + str(result))\n",
    "print(\"Single value process time:\"+ str(end-start))\n",
    "\n",
    "start = time.perf_counter()\n",
    "top10_result=top10_accuracy_label(MNB, X_v[effectives], y_lab_validate.to_numpy())\n",
    "end   = time.perf_counter()\n",
    "\n",
    "print(\"Top 10 value accuracy:\"+str(top10_result))\n",
    "print(\"Top 10 value process time:\"+str(end-start))"
   ]
  },
  {
   "cell_type": "markdown",
   "metadata": {},
   "source": [
    "#### 445 Complement Naive Bayes classifier"
   ]
  },
  {
   "cell_type": "markdown",
   "metadata": {},
   "source": [
    "from sklearn.naive_bayes import ComplementNB\n",
    "from sklearn.metrics import fbeta_score, make_scorer\n"
   ]
  },
  {
   "cell_type": "markdown",
   "metadata": {},
   "source": [
    "CNB_params = {\"alpha\":[.01,.001,0.001,.0001],\n",
    "               \"fit_prior\":[True]}"
   ]
  },
  {
   "cell_type": "markdown",
   "metadata": {},
   "source": [
    "CNB = ComplementNB()\n",
    "\n",
    "GS_CNB = GridSearchCV(CNB, \n",
    "                      param_grid=CNB_params,\n",
    "                      scoring=\"accuracy\",\n",
    "                      n_jobs= 4,\n",
    "                      verbose = 1)"
   ]
  },
  {
   "cell_type": "markdown",
   "metadata": {
    "scrolled": true
   },
   "source": [
    "GS_CNB.fit(X_res,y_lab_res)\n",
    "\n",
    "print(\"The best parameters searched: \",GS_CNB.best_params_)\n",
    "print(\"The best model scores: \",GS_CNB.best_score_)\n",
    "\n",
    "alarm.Beep(freq,duration)"
   ]
  },
  {
   "cell_type": "markdown",
   "metadata": {},
   "source": [
    "CNB_best = GS_CNB.best_estimator_\n",
    "\n",
    "start = time.perf_counter()\n",
    "result= CNB_best.score(X_validate, y_lab_validate)\n",
    "end   = time.perf_counter()\n",
    "\n",
    "print(\"Single value accuracy rating:\" + str(result))\n",
    "print(\"Single value process time:\"+ str(end-start))\n",
    "\n",
    "start = time.perf_counter()\n",
    "top10_result=top10_accuracy_label(CNB_best, X_validate, y_lab_validate.to_numpy())\n",
    "end   = time.perf_counter()\n",
    "\n",
    "print(\"Top 10 value accuracy:\"+str(top10_result))\n",
    "print(\"Top 10 value process time:\"+str(end-start))"
   ]
  },
  {
   "cell_type": "markdown",
   "metadata": {},
   "source": [
    "#### 450 RBF SVM"
   ]
  },
  {
   "cell_type": "markdown",
   "metadata": {},
   "source": [
    "from sklearn.gaussian_process import GaussianProcessClassifier\n",
    "from sklearn.gaussian_process.kernels import RBF\n",
    "\n",
    "kernel = 1.0 * RBF(1)\n",
    "\n",
    "gpc = GaussianProcessClassifier(kernel = kernel, n_jobs = 4)"
   ]
  },
  {
   "cell_type": "markdown",
   "metadata": {},
   "source": [
    "gpc.fit(X_res,y_lab_res)\n",
    "\n",
    "##### ops, oversized. may wanna try cross validation later."
   ]
  },
  {
   "cell_type": "markdown",
   "metadata": {},
   "source": [
    "### 500 Make Predictions (untouched, only useful if we are submitting to DataDriven site.)"
   ]
  },
  {
   "cell_type": "markdown",
   "metadata": {},
   "source": [
    "test_values.isnull().sum()"
   ]
  },
  {
   "cell_type": "markdown",
   "metadata": {},
   "source": [
    "test_values_filled = test_values.fillna(0)\n",
    "#test_values_filled = test_values.dropna(0)\n",
    "test_values_filled.isnull().sum()"
   ]
  },
  {
   "cell_type": "markdown",
   "metadata": {},
   "source": [
    "#test_ngram_features = get_ngram_features(test_values, subsequences)\n",
    "test_ngram_features = get_ngram_features(test_values_filled, subsequences)\n",
    "all_test_features   = test_ngram_features.join(test_values_filled.drop('sequence', axis=1))"
   ]
  },
  {
   "cell_type": "markdown",
   "metadata": {},
   "source": [
    "####  Visualize the building blocks to \"all_test_features\" and \"all_test_features\"\n",
    "\n",
    "#test_values.describe()\n",
    "\n",
    "#test_ngram_features.describe()\n",
    "\n",
    "all_test_features.describe()"
   ]
  },
  {
   "cell_type": "markdown",
   "metadata": {},
   "source": [
    "probas = rf.predict_proba(all_test_features)\n",
    "\n",
    "probas[0]"
   ]
  },
  {
   "cell_type": "markdown",
   "metadata": {},
   "source": [
    "#### 520 Save Submission"
   ]
  },
  {
   "cell_type": "markdown",
   "metadata": {},
   "source": [
    "submission_format = pd.read_csv(DATA_DIR + 'submission_format_3TFRxH6.csv', index_col='sequence_id')"
   ]
  },
  {
   "cell_type": "markdown",
   "metadata": {},
   "source": [
    "submission_format.tail()"
   ]
  },
  {
   "cell_type": "markdown",
   "metadata": {},
   "source": [
    "test_values.shape"
   ]
  },
  {
   "cell_type": "markdown",
   "metadata": {},
   "source": [
    "probas"
   ]
  },
  {
   "cell_type": "markdown",
   "metadata": {},
   "source": [
    "probas.shape"
   ]
  },
  {
   "cell_type": "markdown",
   "metadata": {},
   "source": [
    "submission_format.shape"
   ]
  },
  {
   "cell_type": "markdown",
   "metadata": {},
   "source": [
    "test_values_filled.shape"
   ]
  },
  {
   "cell_type": "markdown",
   "metadata": {},
   "source": [
    "assert submission_format.shape == probas.shape\n",
    "#assert (rf.classes_ == submission_format.columns).all()"
   ]
  },
  {
   "cell_type": "markdown",
   "metadata": {},
   "source": [
    "### 900 Utility functions below."
   ]
  },
  {
   "cell_type": "markdown",
   "metadata": {},
   "source": [
    "#### 901 print progress bar"
   ]
  },
  {
   "cell_type": "code",
   "execution_count": 13,
   "metadata": {},
   "outputs": [],
   "source": [
    "# Print iterations progress\n",
    "def printProgressBar (iteration, total, prefix = '', suffix = '', decimals = 1, length = 100, fill = '█', printEnd = \"\\r\"):\n",
    "    \"\"\"\n",
    "    Call in a loop to create terminal progress bar\n",
    "    @params:\n",
    "        iteration   - Required  : current iteration (Int)\n",
    "        total       - Required  : total iterations (Int)\n",
    "        prefix      - Optional  : prefix string (Str)\n",
    "        suffix      - Optional  : suffix string (Str)\n",
    "        decimals    - Optional  : positive number of decimals in percent complete (Int)\n",
    "        length      - Optional  : character length of bar (Int)\n",
    "        fill        - Optional  : bar fill character (Str)\n",
    "        printEnd    - Optional  : end character (e.g. \"\\r\", \"\\r\\n\") (Str)\n",
    "    \"\"\"\n",
    "    percent = (\"{0:.\" + str(decimals) + \"f}\").format(100 * (iteration / float(total)))\n",
    "    filledLength = int(length * iteration // total)\n",
    "    bar = fill * filledLength + '-' * (length - filledLength)\n",
    "    print(f'\\r{prefix} |{bar}| {percent}% {suffix}', end = printEnd)\n",
    "    # Print New Line on Complete\n",
    "    if iteration == total: \n",
    "        print()"
   ]
  },
  {
   "cell_type": "markdown",
   "metadata": {},
   "source": [
    "#### 902 quickSplit will function as train_test_split except when there is only one record\n",
    "\n",
    "Train_test_split will generally split the data set as per describe the test_size.\n",
    "\n",
    "However under the condition when there is only one set of data available, train_test_split will return an error.\n",
    "\n",
    "For quickSplit, it will solve the issue as per general train_test_split except for the single record, which quickSplit will return the exact value back as train and test."
   ]
  },
  {
   "cell_type": "code",
   "execution_count": 14,
   "metadata": {},
   "outputs": [],
   "source": [
    "def quickSplit(X,y, TEST_SIZE=0.2):\n",
    "    if X.shape[0] ==1:\n",
    "        X_train = X\n",
    "        X_test  = X\n",
    "        y_train = y\n",
    "        y_test  = y\n",
    "    else:\n",
    "        X_train,X_test,y_train,y_test = train_test_split(X,y,test_size = TEST_SIZE)\n",
    "    return X_train,X_test,y_train,y_test"
   ]
  },
  {
   "cell_type": "markdown",
   "metadata": {},
   "source": [
    "#### 903 randomSplit is used for one column label output split."
   ]
  },
  {
   "cell_type": "code",
   "execution_count": 15,
   "metadata": {},
   "outputs": [],
   "source": [
    "def randomSplit_lab(df_X,df_y,col_label = \"lab_id\",TEST_SIZE=0.2):\n",
    "    start = time.perf_counter()\n",
    "    \n",
    "    ls_y_labels = list(df_y[col_label].unique())\n",
    "\n",
    "    X_train = pd.DataFrame()\n",
    "    X_test  = pd.DataFrame()\n",
    "    y_train = pd.DataFrame()\n",
    "    y_test  = pd.DataFrame()\n",
    "    \n",
    "    i = 1\n",
    "    total = len(ls_y_labels)\n",
    "    \n",
    "    for label in ls_y_labels:\n",
    "        y = df_y[df_y[col_label] == label]\n",
    "        X = df_X.loc[y.index]\n",
    "        \n",
    "        Xa,Xb,ya,yb  =  quickSplit(X,y,TEST_SIZE)\n",
    "\n",
    "        X_train = X_train.append(Xa)\n",
    "        X_test  = X_test.append(Xb)\n",
    "        y_train = y_train.append(ya)\n",
    "        y_test  = y_test.append(yb)\n",
    "        \n",
    "        printProgressBar(i,total)\n",
    "        i+=1\n",
    "    \n",
    "    end   = time.perf_counter()\n",
    "    print(\"training, holdout split complete\",end-start)\n",
    "    alarm.Beep(freq, duration)\n",
    "    \n",
    "    return X_train,X_test,y_train,y_test\n"
   ]
  },
  {
   "cell_type": "markdown",
   "metadata": {},
   "source": [
    "#### 904 randomSplit_cat is used for multiple columns categorical output split."
   ]
  },
  {
   "cell_type": "markdown",
   "metadata": {},
   "source": [
    "def randomSplit_cat(df_X,df_y,TEST_SIZE=0.2):\n",
    "    start = time.perf_counter()\n",
    "\n",
    "    ls_y_labels = list(df_y.columns)\n",
    "\n",
    "    X_train = pd.DataFrame()\n",
    "    X_test  = pd.DataFrame()\n",
    "    y_train = pd.DataFrame()\n",
    "    y_test  = pd.DataFrame()\n",
    "    \n",
    "    i = 1\n",
    "    total = len(ls_y_labels)\n",
    "    \n",
    "    for label in ls_y_labels:\n",
    "        y = df_y[df_y[label]==1]\n",
    "        X = df_X.loc[y.index]\n",
    "        \n",
    "        Xa,Xb,ya,yb  =  quickSplit(X,y,TEST_SIZE)\n",
    "\n",
    "        X_train = X_train.append(Xa)\n",
    "        X_test  = X_test.append(Xb)\n",
    "        y_train = y_train.append(ya)\n",
    "        y_test  = y_test.append(yb)\n",
    "        \n",
    "        printProgressBar(iteration = i, total = total, length = 50)\n",
    "        i+=1\n",
    "    \n",
    "    end   = time.perf_counter()\n",
    "    print(\"training, holdout split complete\",end-start)\n",
    "    alarm.Beep(freq, duration)\n",
    "    \n",
    "    return X_train,X_test,y_train,y_test"
   ]
  },
  {
   "cell_type": "markdown",
   "metadata": {},
   "source": [
    "#### 905 get n gram features."
   ]
  },
  {
   "cell_type": "code",
   "execution_count": 16,
   "metadata": {},
   "outputs": [],
   "source": [
    "def get_ngram_features(data, subsequences):\n",
    "    \"\"\"Generates counts for each subsequence.\n",
    "    \n",
    "    Args:\n",
    "        data (DataFrame): The data you want to create features from. Must subsequences (list): A list of subsequences to count\n",
    "        \n",
    "    Returns:\n",
    "        DataFrame: A DataFrame with one column for each subsequence\n",
    "    \"\"\"\n",
    "    start = time.perf_counter()\n",
    "    i = 1\n",
    "    total = len(subsequences)\n",
    "    \n",
    "    features = pd.DataFrame(index=data.index)\n",
    "    \n",
    "    for subseq in subsequences:\n",
    "        features[subseq] = data.sequence.str.count(subseq)\n",
    "        \n",
    "        printProgressBar(iteration = i, total = total, length = 50)\n",
    "        i+=1\n",
    "    \n",
    "    end = time.perf_counter()\n",
    "    \n",
    "    print(\"process time: \",end-start)\n",
    "    return features"
   ]
  },
  {
   "cell_type": "markdown",
   "metadata": {},
   "source": [
    "#### 906 get n base features."
   ]
  },
  {
   "cell_type": "code",
   "execution_count": 17,
   "metadata": {},
   "outputs": [],
   "source": [
    "def get_nbase_features(data, bases):\n",
    "    \"\"\"Generates counts for each subsequence of n gram of the bases.\n",
    "    \n",
    "    Args:\n",
    "        data (DataFrame): The data you want to create features from. Must \n",
    "        bases (list): A list of base elements to construct sequences\n",
    "        \n",
    "    Returns:\n",
    "        DataFrame: A DataFrame with one column for each subsequence\n",
    "    \"\"\"\n",
    "    start = time.perf_counter()\n",
    "    \n",
    "    ngrams = [x+1 for x in range(len(bases))]\n",
    "    subseqs_ng = []\n",
    "    \n",
    "    for n in ngrams:\n",
    "        subseqs_ng.append([''.join(permutation) for permutation in permutations(bases, r=n)])\n",
    "        print(n,\" gram variation count: \",len(subseqs_ng[n-1]))\n",
    "    \n",
    "    end = time.perf_counter()\n",
    "    \n",
    "    print(\"n gram permutation time: \",end-start)\n",
    "    \n",
    "    features = pd.DataFrame(index=data.index)\n",
    "    i = 1\n",
    "    total = len(subseqs_ng)\n",
    "    \n",
    "    for subseqs in subseqs_ng:\n",
    "        printProgressBar(iteration = i, total = total, length = 50)\n",
    "        \n",
    "        for subseq in subseqs:\n",
    "            features[subseq] = data.sequence.str.count(subseq)\n",
    "        \n",
    "        #print(i, \" gram features generation time: \",end-start)\n",
    "        i+=1\n",
    "    \n",
    "    return features"
   ]
  },
  {
   "cell_type": "markdown",
   "metadata": {},
   "source": [
    "#### 907 weighted categorical crossentropy loss function with weight value as input"
   ]
  },
  {
   "cell_type": "code",
   "execution_count": 18,
   "metadata": {},
   "outputs": [],
   "source": [
    "\"\"\"\n",
    "A weighted version of categorical_crossentropy for keras (2.0.6). This lets you apply a weight to unbalanced classes.\n",
    "@url: https://gist.github.com/wassname/ce364fddfc8a025bfab4348cf5de852d\n",
    "@author: wassname\n",
    "\"\"\"\n",
    "from keras import backend as K\n",
    "def weighted_categorical_crossentropy(weights):\n",
    "    \"\"\"\n",
    "    A weighted version of keras.objectives.categorical_crossentropy\n",
    "    \n",
    "    Variables:\n",
    "        weights: numpy array of shape (C,) where C is the number of classes\n",
    "    \n",
    "    Usage:\n",
    "        weights = np.array([0.5,2,10]) # Class one at 0.5, class 2 twice the normal weights, class 3 10x.\n",
    "        loss = weighted_categorical_crossentropy(weights)\n",
    "        model.compile(loss=loss,optimizer='adam')\n",
    "    \"\"\"\n",
    "    \n",
    "    weights = K.variable(weights)\n",
    "        \n",
    "    def loss(y_true, y_pred):\n",
    "        # scale predictions so that the class probas of each sample sum to 1\n",
    "        y_pred /= K.sum(y_pred, axis=-1, keepdims=True)\n",
    "        # clip to prevent NaN's and Inf's\n",
    "        y_pred = K.clip(y_pred, K.epsilon(), 1 - K.epsilon())\n",
    "        # calc\n",
    "        loss = y_true * K.log(y_pred) * weights\n",
    "        loss = -K.sum(loss, -1)\n",
    "        return loss\n",
    "    \n",
    "    return loss"
   ]
  },
  {
   "cell_type": "markdown",
   "metadata": {},
   "source": [
    "#### 908 top 10 finder which take a binary dummy output matrix and "
   ]
  },
  {
   "cell_type": "code",
   "execution_count": 19,
   "metadata": {},
   "outputs": [],
   "source": [
    "####     compare with another binary dummy validation matrix and return\n",
    "####     validation result and print top 10 validation accuracy\n",
    "\n",
    "def top10_accuracy_cat(y_predict, y_validate):\n",
    "    top10_idx = np.argpartition(y_predict.to_numpy(), -10, axis=1)[:, -10:]\n",
    "    \n",
    "    validate_idx = np.argpartition(y_validate.to_numpy(),-1,axis=1)[:,-1:]\n",
    "    df_top10 = pd.DataFrame(top10_idx)\n",
    "    df_validate = pd.DataFrame(validate_idx)\n",
    "    \n",
    "    df_top10 = df_top10.sub(df_validate[0],axis = 0)\n",
    "    df_top10[\"validation\"] = df_top10.eq(0).any(axis=1).astype(\"int32\")\n",
    "    \n",
    "    df_result = pd.DataFrame(df_top10[\"validation\"],columns = [\"validation\"])\n",
    "    df_result[\"index\"]=y_validate.index\n",
    "    df_result.set_index(\"index\",drop=True,inplace=True)\n",
    "    \n",
    "    print(\"Top 10 Validation Accuracy: \",df_top10[\"validation\"].mean())\n",
    "    \n",
    "    return df_result"
   ]
  },
  {
   "cell_type": "markdown",
   "metadata": {},
   "source": [
    "#### 909 top 1 finder which take a binary dummy output matrix and "
   ]
  },
  {
   "cell_type": "code",
   "execution_count": 20,
   "metadata": {},
   "outputs": [],
   "source": [
    "####     compare with another binary dummy validation matrix and return\n",
    "####     validation result and print top 1 validation accuracy\n",
    "\n",
    "def top1_accuracy_cat(y_predict, y_validate):\n",
    "    top1_idx = np.argpartition(y_predict.to_numpy(), -1, axis=1)[:, -1:]\n",
    "    \n",
    "    validate_idx = np.argpartition(y_validate.to_numpy(),-1,axis=1)[:,-1:]\n",
    "    df_top1 = pd.DataFrame(top1_idx)\n",
    "    df_validate = pd.DataFrame(validate_idx)\n",
    "    \n",
    "    df_top1 = df_top1.sub(df_validate[0],axis = 0)\n",
    "    df_top1[\"validation\"] = df_top1.eq(0).any(axis=1).astype(\"int32\")\n",
    "    \n",
    "    df_result = pd.DataFrame(df_top1[\"validation\"],columns = [\"validation\"])\n",
    "    df_result[\"index\"]=y_validate.index\n",
    "    df_result.set_index(\"index\",drop=True,inplace=True)\n",
    "\n",
    "    \n",
    "    print(\"Top 1 Validation Accuracy: \",df_top1[\"validation\"].mean())\n",
    "    \n",
    "    return df_result"
   ]
  },
  {
   "cell_type": "markdown",
   "metadata": {},
   "source": [
    "#### 909 top 10 finder for normal estimators which accepts label output"
   ]
  },
  {
   "cell_type": "code",
   "execution_count": 21,
   "metadata": {},
   "outputs": [],
   "source": [
    "def top10_accuracy_label(estimator, X, y):\n",
    "    \"\"\"A custom scorer that evaluates a model on whether the correct label the top 10 most probably predictions.\n",
    "    \n",
    "    Args:\n",
    "        estimatory (sklearn estimator): The skLearn model that should be evaluatioed \n",
    "        X (numpy array): The validation data.\n",
    "        y (numpy array): The ground truth lables.\n",
    "        \n",
    "    Returns:\n",
    "        float: Accuracy of the model as defined by the proportion of prediction in which the correct label was in Top 10\n",
    "    \"\"\"\n",
    "    # predict the probabilities across all possible labels for rows in our training set\n",
    "    probas = estimator.predict_proba(X)\n",
    "    \n",
    "    # get the indices for top 10 predictions for each row; these are these are the last ten in each row\n",
    "    # Note: We use argpartition, which is O(n), vs argsort, which uses the quicksort algorithm \n",
    "    # by default and is O(n^2) in the worst case. We can do this because we only need the top ten\n",
    "    # partitioned, not in sorted order.\n",
    "    \n",
    "    # Documentation: https://numpy.org/doc/1.18/reference/generated/numpy.argpartition.html\n",
    "    top10_idx = np.argpartition(probas, -10, axis=1)[:, -10:]\n",
    "    \n",
    "    # index into the classes list using the top ten indices to get the class names\n",
    "    top10_preds = estimator.classes_[top10_idx]\n",
    "\n",
    "    # check if y-true is in top 10 for each set of predictions\n",
    "    mask = top10_preds == y.reshape((y.size, 1))\n",
    "    \n",
    "    # take the mean\n",
    "    top_10_accuracy = mask.any(axis=1).mean()\n",
    " \n",
    "    return top_10_accuracy"
   ]
  },
  {
   "cell_type": "markdown",
   "metadata": {},
   "source": [
    "#### 910 per category result top 10 accuracy."
   ]
  },
  {
   "cell_type": "code",
   "execution_count": 22,
   "metadata": {},
   "outputs": [],
   "source": [
    "####     input: dataframe result from top 1 validation or top 10 validation and validation output.\n",
    "####     output:print out the categorical accuracy\n",
    "\n",
    "import math\n",
    "\n",
    "def categoricalAccuracy(df_validation,y_validate):\n",
    "    \n",
    "    df_filtered       = y_validate*df_validation.to_numpy()\n",
    "    df_result         = df_filtered.sum()/y_validate.sum()\n",
    "    categoricalWeight = ((y_validate.sum()/df_filtered.sum()+1)/2).apply(math.tanh).to_numpy()\n",
    "    \n",
    "    df_result.hist()\n",
    "    plt.show()\n",
    "    print(\"categorical accuracy: \",df_result.describe())\n",
    "    \n",
    "    return df_result,categoricalWeight"
   ]
  },
  {
   "cell_type": "markdown",
   "metadata": {},
   "source": [
    "#### 911 Bayesian Gaussian Mixture feature generation"
   ]
  },
  {
   "cell_type": "code",
   "execution_count": 23,
   "metadata": {},
   "outputs": [],
   "source": [
    "def BGMfeatureGen(X,y=None, BGM = None):\n",
    "    start = time.perf_counter()\n",
    "    \n",
    "    if BGM is None:\n",
    "        from sklearn.mixture import BayesianGaussianMixture\n",
    "\n",
    "        BGM = BayesianGaussianMixture()\n",
    "        BGM = BayesianGaussianMixture(n_components=100,max_iter=100)\n",
    "        \n",
    "        if y is None:\n",
    "            BGM.fit(X)\n",
    "        else:\n",
    "            BGM.fit(X,y)\n",
    "    else:\n",
    "        pass\n",
    "    \n",
    "    BGM_cluster   = pd.DataFrame(BGM.predict(X),columns = [\"BGM\"])\n",
    "    X_transformed = X.join(BGM_cluster)\n",
    "    \n",
    "    alarm.Beep(freq,duration)\n",
    "\n",
    "    end = time.perf_counter()\n",
    "    print(\"Bayesian Gaussian Mixture transform Time:\"+ str(end-start))\n",
    "        \n",
    "    return X_transformed,BGM"
   ]
  },
  {
   "cell_type": "markdown",
   "metadata": {},
   "source": [
    "#### 912 get effective feature list from the number of features."
   ]
  },
  {
   "cell_type": "code",
   "execution_count": 25,
   "metadata": {},
   "outputs": [],
   "source": [
    "def getEffective(r,featureLS):\n",
    "    effectives = []\n",
    "    for i in r.importances_mean.argsort()[::-1]:\n",
    "        if r.importances_mean[i] - 2 * r.importances_std[i] > 0:\n",
    "            #print(f\"{featureLS[i]:<8}\"f\"{r.importances_mean[i]:.3f}\"f\" +/- {r.importances_std[i]:.3f}\")\n",
    "            effectives.append(featureLS[i])\n",
    "    return effectives"
   ]
  },
  {
   "cell_type": "markdown",
   "metadata": {},
   "source": [
    "#### 913 ordinal data to binary"
   ]
  },
  {
   "cell_type": "code",
   "execution_count": 103,
   "metadata": {},
   "outputs": [],
   "source": [
    "def ordin2Bin(s_ord,label = \"new\"):\n",
    "    digits = math.floor(math.log(s_ord.max(),2))\n",
    "    df_bin = pd.DataFrame()\n",
    "    \n",
    "    for digit in range(digits,-1,-1):\n",
    "        getDigit = lambda x: math.floor(x/pow(2,digit))\n",
    "        getRemainder = lambda x: x%pow(2,digit)\n",
    "        \n",
    "        df_bin[label+str(digit)]=s_ord.apply(getDigit)\n",
    "    \n",
    "        s_ord = s_ord.apply(getRemainder)\n",
    "        \n",
    "    return df_bin"
   ]
  }
 ],
 "metadata": {
  "kernelspec": {
   "display_name": "Python 3",
   "language": "python",
   "name": "python3"
  },
  "language_info": {
   "codemirror_mode": {
    "name": "ipython",
    "version": 3
   },
   "file_extension": ".py",
   "mimetype": "text/x-python",
   "name": "python",
   "nbconvert_exporter": "python",
   "pygments_lexer": "ipython3",
   "version": "3.8.6"
  }
 },
 "nbformat": 4,
 "nbformat_minor": 4
}
