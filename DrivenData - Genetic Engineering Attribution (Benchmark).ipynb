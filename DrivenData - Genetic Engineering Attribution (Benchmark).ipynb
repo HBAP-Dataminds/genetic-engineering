{
 "cells": [
  {
   "cell_type": "markdown",
   "metadata": {},
   "source": [
    "# DrivenData - Genetic Engineering Attribution Challenge\n",
    "#### Jim set up Benchmark 12-07-2020/Vanessa added dataset links 12-10-2020"
   ]
  },
  {
   "cell_type": "code",
   "execution_count": 1,
   "metadata": {},
   "outputs": [
    {
     "name": "stdout",
     "output_type": "stream",
     "text": [
      "Libraries Loaded\n"
     ]
    }
   ],
   "source": [
    "### Import Libraries\n",
    "\n",
    "from pathlib import Path\n",
    "\n",
    "import pandas as pd\n",
    "import matplotlib.pyplot as plt\n",
    "import numpy as np\n",
    "import seaborn as sns\n",
    "\n",
    "%matplotlib inline\n",
    "sns.set()\n",
    "\n",
    "print(\"Libraries Loaded\")"
   ]
  },
  {
   "cell_type": "markdown",
   "metadata": {},
   "source": [
    "## 100 Read Data"
   ]
  },
  {
   "cell_type": "code",
   "execution_count": null,
   "metadata": {},
   "outputs": [],
   "source": [
    "### Reading off of JMO Harddrive\n",
    "\n",
    "#DATA_DIR = 'C:/Users/jorrison/Documents/Home/Harvard/DataMinds/Genetic Engineering/Data/'\n",
    "\n",
    "#train_values = pd.read_csv(DATA_DIR + 'train_values.csv', index_col='sequence_id')\n",
    "#train_labels = pd.read_csv(DATA_DIR + 'train_labels.csv', index_col='sequence_id')\n",
    "#test_values  = pd.read_csv(DATA_DIR + 'test_values.csv' , index_col='sequence_id')\n",
    "\n",
    "#train_values.head()"
   ]
  },
  {
   "cell_type": "code",
   "execution_count": 4,
   "metadata": {},
   "outputs": [],
   "source": [
    "train_labels = pd.read_csv('train_labels.csv', index_col='sequence_id')\n",
    "train_values = pd.read_csv('train_values.csv', index_col='sequence_id')"
   ]
  },
  {
   "cell_type": "code",
   "execution_count": 5,
   "metadata": {},
   "outputs": [],
   "source": [
    "### remote read\n",
    "\n",
    "# train_values = pd.read_csv('https://www.dropbox.com/s/3atnfvr65oh0y4y/train_values.csv?dl=1', index_col='sequence_id')\n",
    "# train_labels = pd.read_csv('https://www.dropbox.com/s/71yg5f3dbc4h2yd/train_labels.csv?dl=1', index_col='sequence_id')\n",
    "# test_values  = pd.read_csv('https://www.dropbox.com/s/4g1astwaccer5lz/test_values.csv?dl=1' , index_col='sequence_id')\n",
    "\n",
    "# train_values.head()"
   ]
  },
  {
   "cell_type": "markdown",
   "metadata": {},
   "source": [
    "#### 110 Explore the Training Data"
   ]
  },
  {
   "cell_type": "code",
   "execution_count": 6,
   "metadata": {},
   "outputs": [
    {
     "data": {
      "text/plain": [
       "sequence                                 object\n",
       "bacterial_resistance_ampicillin         float64\n",
       "bacterial_resistance_chloramphenicol    float64\n",
       "bacterial_resistance_kanamycin          float64\n",
       "bacterial_resistance_other              float64\n",
       "bacterial_resistance_spectinomycin      float64\n",
       "copy_number_high_copy                   float64\n",
       "copy_number_low_copy                    float64\n",
       "copy_number_unknown                     float64\n",
       "growth_strain_ccdb_survival             float64\n",
       "growth_strain_dh10b                     float64\n",
       "growth_strain_dh5alpha                  float64\n",
       "growth_strain_neb_stable                float64\n",
       "growth_strain_other                     float64\n",
       "growth_strain_stbl3                     float64\n",
       "growth_strain_top10                     float64\n",
       "growth_strain_xl1_blue                  float64\n",
       "growth_temp_30                          float64\n",
       "growth_temp_37                          float64\n",
       "growth_temp_other                       float64\n",
       "selectable_markers_blasticidin          float64\n",
       "selectable_markers_his3                 float64\n",
       "selectable_markers_hygromycin           float64\n",
       "selectable_markers_leu2                 float64\n",
       "selectable_markers_neomycin             float64\n",
       "selectable_markers_other                float64\n",
       "selectable_markers_puromycin            float64\n",
       "selectable_markers_trp1                 float64\n",
       "selectable_markers_ura3                 float64\n",
       "selectable_markers_zeocin               float64\n",
       "species_budding_yeast                   float64\n",
       "species_fly                             float64\n",
       "species_human                           float64\n",
       "species_mouse                           float64\n",
       "species_mustard_weed                    float64\n",
       "species_nematode                        float64\n",
       "species_other                           float64\n",
       "species_rat                             float64\n",
       "species_synthetic                       float64\n",
       "species_zebrafish                       float64\n",
       "dtype: object"
      ]
     },
     "execution_count": 6,
     "metadata": {},
     "output_type": "execute_result"
    }
   ],
   "source": [
    "train_values.dtypes"
   ]
  },
  {
   "cell_type": "code",
   "execution_count": 7,
   "metadata": {},
   "outputs": [
    {
     "data": {
      "text/plain": [
       "count    63017.000000\n",
       "mean      4839.025501\n",
       "std       3883.148431\n",
       "min         20.000000\n",
       "25%        909.000000\n",
       "50%       4741.000000\n",
       "75%       7490.000000\n",
       "max      60099.000000\n",
       "Name: sequence, dtype: float64"
      ]
     },
     "execution_count": 7,
     "metadata": {},
     "output_type": "execute_result"
    }
   ],
   "source": [
    "sequence_lengths = train_values.sequence.apply(len)\n",
    "\n",
    "sequence_lengths.describe()"
   ]
  },
  {
   "cell_type": "code",
   "execution_count": 8,
   "metadata": {},
   "outputs": [
    {
     "data": {
      "text/plain": [
       "<AxesSubplot:title={'center':'Distribution of DNA Sequence Length'}, ylabel='Frequency'>"
      ]
     },
     "execution_count": 8,
     "metadata": {},
     "output_type": "execute_result"
    },
    {
     "data": {
      "image/png": "[encoded data removed]",
      "text/plain": [
       "<Figure size 432x288 with 1 Axes>"
      ]
     },
     "metadata": {},
     "output_type": "display_data"
    }
   ],
   "source": [
    "sequence_lengths.plot(kind='hist',\n",
    "                     title= 'Distribution of DNA Sequence Length', \n",
    "                     bins = 100,\n",
    "                     xlim = (0, 20000))   # Suppress a bar longer than 20,000"
   ]
  },
  {
   "cell_type": "code",
   "execution_count": 9,
   "metadata": {},
   "outputs": [
    {
     "data": {
      "text/html": [
       "<div>\n",
       "<style scoped>\n",
       "    .dataframe tbody tr th:only-of-type {\n",
       "        vertical-align: middle;\n",
       "    }\n",
       "\n",
       "    .dataframe tbody tr th {\n",
       "        vertical-align: top;\n",
       "    }\n",
       "\n",
       "    .dataframe thead th {\n",
       "        text-align: right;\n",
       "    }\n",
       "</style>\n",
       "<table border=\"1\" class=\"dataframe\">\n",
       "  <thead>\n",
       "    <tr style=\"text-align: right;\">\n",
       "      <th></th>\n",
       "      <th>bacterial_resistance_ampicillin</th>\n",
       "      <th>bacterial_resistance_chloramphenicol</th>\n",
       "      <th>bacterial_resistance_kanamycin</th>\n",
       "      <th>bacterial_resistance_other</th>\n",
       "      <th>bacterial_resistance_spectinomycin</th>\n",
       "      <th>copy_number_high_copy</th>\n",
       "      <th>copy_number_low_copy</th>\n",
       "      <th>copy_number_unknown</th>\n",
       "      <th>growth_strain_ccdb_survival</th>\n",
       "      <th>growth_strain_dh10b</th>\n",
       "      <th>...</th>\n",
       "      <th>species_budding_yeast</th>\n",
       "      <th>species_fly</th>\n",
       "      <th>species_human</th>\n",
       "      <th>species_mouse</th>\n",
       "      <th>species_mustard_weed</th>\n",
       "      <th>species_nematode</th>\n",
       "      <th>species_other</th>\n",
       "      <th>species_rat</th>\n",
       "      <th>species_synthetic</th>\n",
       "      <th>species_zebrafish</th>\n",
       "    </tr>\n",
       "  </thead>\n",
       "  <tbody>\n",
       "    <tr>\n",
       "      <th>0.0</th>\n",
       "      <td>19590</td>\n",
       "      <td>60506</td>\n",
       "      <td>48706</td>\n",
       "      <td>62078</td>\n",
       "      <td>58592</td>\n",
       "      <td>18750</td>\n",
       "      <td>57313</td>\n",
       "      <td>50059</td>\n",
       "      <td>61841</td>\n",
       "      <td>61285</td>\n",
       "      <td>...</td>\n",
       "      <td>61417</td>\n",
       "      <td>61478</td>\n",
       "      <td>36890</td>\n",
       "      <td>57732</td>\n",
       "      <td>61978</td>\n",
       "      <td>62322</td>\n",
       "      <td>56381</td>\n",
       "      <td>61949</td>\n",
       "      <td>55170</td>\n",
       "      <td>61742</td>\n",
       "    </tr>\n",
       "    <tr>\n",
       "      <th>1.0</th>\n",
       "      <td>43427</td>\n",
       "      <td>2511</td>\n",
       "      <td>14311</td>\n",
       "      <td>939</td>\n",
       "      <td>4425</td>\n",
       "      <td>44267</td>\n",
       "      <td>5704</td>\n",
       "      <td>12958</td>\n",
       "      <td>1176</td>\n",
       "      <td>1732</td>\n",
       "      <td>...</td>\n",
       "      <td>1600</td>\n",
       "      <td>1539</td>\n",
       "      <td>26127</td>\n",
       "      <td>5285</td>\n",
       "      <td>1039</td>\n",
       "      <td>695</td>\n",
       "      <td>6636</td>\n",
       "      <td>1068</td>\n",
       "      <td>7847</td>\n",
       "      <td>1275</td>\n",
       "    </tr>\n",
       "  </tbody>\n",
       "</table>\n",
       "<p>2 rows × 39 columns</p>\n",
       "</div>"
      ],
      "text/plain": [
       "     bacterial_resistance_ampicillin  bacterial_resistance_chloramphenicol  \\\n",
       "0.0                            19590                                 60506   \n",
       "1.0                            43427                                  2511   \n",
       "\n",
       "     bacterial_resistance_kanamycin  bacterial_resistance_other  \\\n",
       "0.0                           48706                       62078   \n",
       "1.0                           14311                         939   \n",
       "\n",
       "     bacterial_resistance_spectinomycin  copy_number_high_copy  \\\n",
       "0.0                               58592                  18750   \n",
       "1.0                                4425                  44267   \n",
       "\n",
       "     copy_number_low_copy  copy_number_unknown  growth_strain_ccdb_survival  \\\n",
       "0.0                 57313                50059                        61841   \n",
       "1.0                  5704                12958                         1176   \n",
       "\n",
       "     growth_strain_dh10b  ...  species_budding_yeast  species_fly  \\\n",
       "0.0                61285  ...                  61417        61478   \n",
       "1.0                 1732  ...                   1600         1539   \n",
       "\n",
       "     species_human  species_mouse  species_mustard_weed  species_nematode  \\\n",
       "0.0          36890          57732                 61978             62322   \n",
       "1.0          26127           5285                  1039               695   \n",
       "\n",
       "     species_other  species_rat  species_synthetic  species_zebrafish  \n",
       "0.0          56381        61949              55170              61742  \n",
       "1.0           6636         1068               7847               1275  \n",
       "\n",
       "[2 rows x 39 columns]"
      ]
     },
     "execution_count": 9,
     "metadata": {},
     "output_type": "execute_result"
    }
   ],
   "source": [
    "###  Exclude the 0th column which is the DNA Sequence\n",
    "\n",
    "train_values.iloc[:, 1:].apply(pd.value_counts)"
   ]
  },
  {
   "cell_type": "code",
   "execution_count": 10,
   "metadata": {},
   "outputs": [
    {
     "data": {
      "text/plain": [
       "Text(0.5, 0, 'Proportion of sequences')"
      ]
     },
     "execution_count": 10,
     "metadata": {},
     "output_type": "execute_result"
    },
    {
     "data": {
      "image/png": "[encoded data removed]",
      "text/plain": [
       "<Figure size 360x864 with 1 Axes>"
      ]
     },
     "metadata": {},
     "output_type": "display_data"
    }
   ],
   "source": [
    "sorted_binary_features = train_values.iloc[:, 1:].mean().sort_values()\n",
    "\n",
    "ax = sorted_binary_features.plot(kind = 'barh',\n",
    "                                stacked = True,\n",
    "                                figsize = (5,12),\n",
    "                                title   = 'Prevalence of Binary Features')\n",
    "ax.set_xlabel('Proportion of sequences')"
   ]
  },
  {
   "cell_type": "markdown",
   "metadata": {},
   "source": [
    "#### 120 Explore the Test Data"
   ]
  },
  {
   "cell_type": "code",
   "execution_count": 11,
   "metadata": {},
   "outputs": [],
   "source": [
    "# test_values.head()"
   ]
  },
  {
   "cell_type": "code",
   "execution_count": 12,
   "metadata": {},
   "outputs": [],
   "source": [
    "# test_values.sequence.apply(len).describe()"
   ]
  },
  {
   "cell_type": "markdown",
   "metadata": {},
   "source": [
    "##### 130 Explore Training Labels"
   ]
  },
  {
   "cell_type": "code",
   "execution_count": 13,
   "metadata": {},
   "outputs": [
    {
     "data": {
      "text/html": [
       "<div>\n",
       "<style scoped>\n",
       "    .dataframe tbody tr th:only-of-type {\n",
       "        vertical-align: middle;\n",
       "    }\n",
       "\n",
       "    .dataframe tbody tr th {\n",
       "        vertical-align: top;\n",
       "    }\n",
       "\n",
       "    .dataframe thead th {\n",
       "        text-align: right;\n",
       "    }\n",
       "</style>\n",
       "<table border=\"1\" class=\"dataframe\">\n",
       "  <thead>\n",
       "    <tr style=\"text-align: right;\">\n",
       "      <th></th>\n",
       "      <th>00Q4V31T</th>\n",
       "      <th>012VT4JK</th>\n",
       "      <th>028IO5W2</th>\n",
       "      <th>03GRNN7N</th>\n",
       "      <th>03Y3W51H</th>\n",
       "      <th>09MQV1TY</th>\n",
       "      <th>0A4AHRCT</th>\n",
       "      <th>0A9M05NC</th>\n",
       "      <th>0B9GCUVV</th>\n",
       "      <th>0CL7QVG8</th>\n",
       "      <th>...</th>\n",
       "      <th>ZQNGGY33</th>\n",
       "      <th>ZSHS4VJZ</th>\n",
       "      <th>ZT1IP3T6</th>\n",
       "      <th>ZU6860XU</th>\n",
       "      <th>ZU6TVFFU</th>\n",
       "      <th>ZU75P59K</th>\n",
       "      <th>ZUI6TDWV</th>\n",
       "      <th>ZWFD8OHC</th>\n",
       "      <th>ZX06ZDZN</th>\n",
       "      <th>ZZJVE4HO</th>\n",
       "    </tr>\n",
       "    <tr>\n",
       "      <th>sequence_id</th>\n",
       "      <th></th>\n",
       "      <th></th>\n",
       "      <th></th>\n",
       "      <th></th>\n",
       "      <th></th>\n",
       "      <th></th>\n",
       "      <th></th>\n",
       "      <th></th>\n",
       "      <th></th>\n",
       "      <th></th>\n",
       "      <th></th>\n",
       "      <th></th>\n",
       "      <th></th>\n",
       "      <th></th>\n",
       "      <th></th>\n",
       "      <th></th>\n",
       "      <th></th>\n",
       "      <th></th>\n",
       "      <th></th>\n",
       "      <th></th>\n",
       "      <th></th>\n",
       "    </tr>\n",
       "  </thead>\n",
       "  <tbody>\n",
       "    <tr>\n",
       "      <th>9ZIMC</th>\n",
       "      <td>0.0</td>\n",
       "      <td>0.0</td>\n",
       "      <td>0.0</td>\n",
       "      <td>0.0</td>\n",
       "      <td>0.0</td>\n",
       "      <td>0.0</td>\n",
       "      <td>0.0</td>\n",
       "      <td>0.0</td>\n",
       "      <td>0.0</td>\n",
       "      <td>0.0</td>\n",
       "      <td>...</td>\n",
       "      <td>0.0</td>\n",
       "      <td>0.0</td>\n",
       "      <td>0.0</td>\n",
       "      <td>0.0</td>\n",
       "      <td>0.0</td>\n",
       "      <td>0.0</td>\n",
       "      <td>0.0</td>\n",
       "      <td>0.0</td>\n",
       "      <td>0.0</td>\n",
       "      <td>0.0</td>\n",
       "    </tr>\n",
       "    <tr>\n",
       "      <th>5SAQC</th>\n",
       "      <td>0.0</td>\n",
       "      <td>0.0</td>\n",
       "      <td>0.0</td>\n",
       "      <td>0.0</td>\n",
       "      <td>0.0</td>\n",
       "      <td>0.0</td>\n",
       "      <td>0.0</td>\n",
       "      <td>0.0</td>\n",
       "      <td>0.0</td>\n",
       "      <td>0.0</td>\n",
       "      <td>...</td>\n",
       "      <td>0.0</td>\n",
       "      <td>0.0</td>\n",
       "      <td>0.0</td>\n",
       "      <td>0.0</td>\n",
       "      <td>0.0</td>\n",
       "      <td>0.0</td>\n",
       "      <td>0.0</td>\n",
       "      <td>0.0</td>\n",
       "      <td>0.0</td>\n",
       "      <td>0.0</td>\n",
       "    </tr>\n",
       "    <tr>\n",
       "      <th>E7QRO</th>\n",
       "      <td>0.0</td>\n",
       "      <td>0.0</td>\n",
       "      <td>0.0</td>\n",
       "      <td>0.0</td>\n",
       "      <td>0.0</td>\n",
       "      <td>0.0</td>\n",
       "      <td>0.0</td>\n",
       "      <td>0.0</td>\n",
       "      <td>0.0</td>\n",
       "      <td>0.0</td>\n",
       "      <td>...</td>\n",
       "      <td>0.0</td>\n",
       "      <td>0.0</td>\n",
       "      <td>0.0</td>\n",
       "      <td>0.0</td>\n",
       "      <td>0.0</td>\n",
       "      <td>0.0</td>\n",
       "      <td>0.0</td>\n",
       "      <td>0.0</td>\n",
       "      <td>0.0</td>\n",
       "      <td>0.0</td>\n",
       "    </tr>\n",
       "    <tr>\n",
       "      <th>CT5FP</th>\n",
       "      <td>0.0</td>\n",
       "      <td>0.0</td>\n",
       "      <td>0.0</td>\n",
       "      <td>0.0</td>\n",
       "      <td>0.0</td>\n",
       "      <td>0.0</td>\n",
       "      <td>0.0</td>\n",
       "      <td>0.0</td>\n",
       "      <td>0.0</td>\n",
       "      <td>0.0</td>\n",
       "      <td>...</td>\n",
       "      <td>0.0</td>\n",
       "      <td>0.0</td>\n",
       "      <td>0.0</td>\n",
       "      <td>0.0</td>\n",
       "      <td>0.0</td>\n",
       "      <td>0.0</td>\n",
       "      <td>0.0</td>\n",
       "      <td>0.0</td>\n",
       "      <td>0.0</td>\n",
       "      <td>0.0</td>\n",
       "    </tr>\n",
       "    <tr>\n",
       "      <th>7PTD8</th>\n",
       "      <td>0.0</td>\n",
       "      <td>0.0</td>\n",
       "      <td>0.0</td>\n",
       "      <td>0.0</td>\n",
       "      <td>0.0</td>\n",
       "      <td>0.0</td>\n",
       "      <td>0.0</td>\n",
       "      <td>0.0</td>\n",
       "      <td>0.0</td>\n",
       "      <td>0.0</td>\n",
       "      <td>...</td>\n",
       "      <td>0.0</td>\n",
       "      <td>0.0</td>\n",
       "      <td>0.0</td>\n",
       "      <td>0.0</td>\n",
       "      <td>0.0</td>\n",
       "      <td>0.0</td>\n",
       "      <td>0.0</td>\n",
       "      <td>0.0</td>\n",
       "      <td>0.0</td>\n",
       "      <td>0.0</td>\n",
       "    </tr>\n",
       "  </tbody>\n",
       "</table>\n",
       "<p>5 rows × 1314 columns</p>\n",
       "</div>"
      ],
      "text/plain": [
       "             00Q4V31T  012VT4JK  028IO5W2  03GRNN7N  03Y3W51H  09MQV1TY  \\\n",
       "sequence_id                                                               \n",
       "9ZIMC             0.0       0.0       0.0       0.0       0.0       0.0   \n",
       "5SAQC             0.0       0.0       0.0       0.0       0.0       0.0   \n",
       "E7QRO             0.0       0.0       0.0       0.0       0.0       0.0   \n",
       "CT5FP             0.0       0.0       0.0       0.0       0.0       0.0   \n",
       "7PTD8             0.0       0.0       0.0       0.0       0.0       0.0   \n",
       "\n",
       "             0A4AHRCT  0A9M05NC  0B9GCUVV  0CL7QVG8  ...  ZQNGGY33  ZSHS4VJZ  \\\n",
       "sequence_id                                          ...                       \n",
       "9ZIMC             0.0       0.0       0.0       0.0  ...       0.0       0.0   \n",
       "5SAQC             0.0       0.0       0.0       0.0  ...       0.0       0.0   \n",
       "E7QRO             0.0       0.0       0.0       0.0  ...       0.0       0.0   \n",
       "CT5FP             0.0       0.0       0.0       0.0  ...       0.0       0.0   \n",
       "7PTD8             0.0       0.0       0.0       0.0  ...       0.0       0.0   \n",
       "\n",
       "             ZT1IP3T6  ZU6860XU  ZU6TVFFU  ZU75P59K  ZUI6TDWV  ZWFD8OHC  \\\n",
       "sequence_id                                                               \n",
       "9ZIMC             0.0       0.0       0.0       0.0       0.0       0.0   \n",
       "5SAQC             0.0       0.0       0.0       0.0       0.0       0.0   \n",
       "E7QRO             0.0       0.0       0.0       0.0       0.0       0.0   \n",
       "CT5FP             0.0       0.0       0.0       0.0       0.0       0.0   \n",
       "7PTD8             0.0       0.0       0.0       0.0       0.0       0.0   \n",
       "\n",
       "             ZX06ZDZN  ZZJVE4HO  \n",
       "sequence_id                      \n",
       "9ZIMC             0.0       0.0  \n",
       "5SAQC             0.0       0.0  \n",
       "E7QRO             0.0       0.0  \n",
       "CT5FP             0.0       0.0  \n",
       "7PTD8             0.0       0.0  \n",
       "\n",
       "[5 rows x 1314 columns]"
      ]
     },
     "execution_count": 13,
     "metadata": {},
     "output_type": "execute_result"
    }
   ],
   "source": [
    "train_labels.head()"
   ]
  },
  {
   "cell_type": "code",
   "execution_count": 14,
   "metadata": {},
   "outputs": [
    {
     "data": {
      "text/html": [
       "<div>\n",
       "<style scoped>\n",
       "    .dataframe tbody tr th:only-of-type {\n",
       "        vertical-align: middle;\n",
       "    }\n",
       "\n",
       "    .dataframe tbody tr th {\n",
       "        vertical-align: top;\n",
       "    }\n",
       "\n",
       "    .dataframe thead th {\n",
       "        text-align: right;\n",
       "    }\n",
       "</style>\n",
       "<table border=\"1\" class=\"dataframe\">\n",
       "  <thead>\n",
       "    <tr style=\"text-align: right;\">\n",
       "      <th></th>\n",
       "      <th>lab_id</th>\n",
       "    </tr>\n",
       "    <tr>\n",
       "      <th>sequence_id</th>\n",
       "      <th></th>\n",
       "    </tr>\n",
       "  </thead>\n",
       "  <tbody>\n",
       "    <tr>\n",
       "      <th>9ZIMC</th>\n",
       "      <td>RYUA3GVO</td>\n",
       "    </tr>\n",
       "    <tr>\n",
       "      <th>5SAQC</th>\n",
       "      <td>RYUA3GVO</td>\n",
       "    </tr>\n",
       "    <tr>\n",
       "      <th>E7QRO</th>\n",
       "      <td>RYUA3GVO</td>\n",
       "    </tr>\n",
       "    <tr>\n",
       "      <th>CT5FP</th>\n",
       "      <td>RYUA3GVO</td>\n",
       "    </tr>\n",
       "    <tr>\n",
       "      <th>7PTD8</th>\n",
       "      <td>RYUA3GVO</td>\n",
       "    </tr>\n",
       "  </tbody>\n",
       "</table>\n",
       "</div>"
      ],
      "text/plain": [
       "               lab_id\n",
       "sequence_id          \n",
       "9ZIMC        RYUA3GVO\n",
       "5SAQC        RYUA3GVO\n",
       "E7QRO        RYUA3GVO\n",
       "CT5FP        RYUA3GVO\n",
       "7PTD8        RYUA3GVO"
      ]
     },
     "execution_count": 14,
     "metadata": {},
     "output_type": "execute_result"
    }
   ],
   "source": [
    "# Get the column with the max value in each row\n",
    "\n",
    "lab_ids = pd.DataFrame(train_labels.idxmax(axis=1), columns = ['lab_id'])\n",
    "lab_ids.head()"
   ]
  },
  {
   "cell_type": "code",
   "execution_count": 15,
   "metadata": {},
   "outputs": [
    {
     "data": {
      "text/plain": [
       "count    1314.000000\n",
       "mean       47.958143\n",
       "std       262.552258\n",
       "min         1.000000\n",
       "25%         9.000000\n",
       "50%        15.000000\n",
       "75%        34.000000\n",
       "max      8286.000000\n",
       "Name: lab_id, dtype: float64"
      ]
     },
     "execution_count": 15,
     "metadata": {},
     "output_type": "execute_result"
    }
   ],
   "source": [
    "# Get the distribution of lab prevalence in the training set\n",
    "lab_ids['lab_id'].value_counts().describe()"
   ]
  },
  {
   "cell_type": "code",
   "execution_count": 16,
   "metadata": {},
   "outputs": [
    {
     "data": {
      "text/plain": [
       "I7FXTVDP    0.131488\n",
       "RKJHZGDQ    0.043353\n",
       "GTVTUGVY    0.042401\n",
       "A18S09P2    0.016884\n",
       "Q2K8NHZY    0.015440\n",
       "Name: lab_id, dtype: float64"
      ]
     },
     "execution_count": 16,
     "metadata": {},
     "output_type": "execute_result"
    }
   ],
   "source": [
    "# Sort lab ids by prevalence\n",
    "(lab_ids['lab_id'].value_counts(normalize = True).sort_values(ascending=False)).head()"
   ]
  },
  {
   "cell_type": "markdown",
   "metadata": {},
   "source": [
    "### 200 Enrich Data Sets\n",
    "#### 210 Construct Features from DNA Sequences"
   ]
  },
  {
   "cell_type": "code",
   "execution_count": null,
   "metadata": {},
   "outputs": [],
   "source": [
    "bases = set(''.join(train_values.sequence.values))\n",
    "bases"
   ]
  },
  {
   "cell_type": "code",
   "execution_count": null,
   "metadata": {},
   "outputs": [],
   "source": [
    "from itertools import permutations\n",
    "\n",
    "n = 4\n",
    "subsequences = [''.join(permutation) for permutation in permutations(bases, r=n)]"
   ]
  },
  {
   "cell_type": "code",
   "execution_count": 15,
   "metadata": {},
   "outputs": [
    {
     "name": "stdout",
     "output_type": "stream",
     "text": [
      "Number of subsequences: 120\n"
     ]
    },
    {
     "data": {
      "text/plain": [
       "['CAGT',\n",
       " 'CAGN',\n",
       " 'CATG',\n",
       " 'CATN',\n",
       " 'CANG',\n",
       " 'CANT',\n",
       " 'CGAT',\n",
       " 'CGAN',\n",
       " 'CGTA',\n",
       " 'CGTN']"
      ]
     },
     "execution_count": 15,
     "metadata": {},
     "output_type": "execute_result"
    }
   ],
   "source": [
    "print(f\"Number of subsequences: {len(subsequences)}\")\n",
    "subsequences[:10]"
   ]
  },
  {
   "cell_type": "code",
   "execution_count": 16,
   "metadata": {},
   "outputs": [
    {
     "data": {
      "text/plain": [
       "2"
      ]
     },
     "execution_count": 16,
     "metadata": {},
     "output_type": "execute_result"
    }
   ],
   "source": [
    "# Example of built-in count method on strings\n",
    "# Because it's non-overlapping, \"atta\" is only counted twice\n",
    "\"gattattattaca\".count(\"atta\")"
   ]
  },
  {
   "cell_type": "markdown",
   "metadata": {},
   "source": [
    "### 210 Counting the Subsequences"
   ]
  },
  {
   "cell_type": "code",
   "execution_count": 17,
   "metadata": {},
   "outputs": [],
   "source": [
    "def get_ngram_features(data, subsequences):\n",
    "    \"\"\"Generates counts for each subsequence.\n",
    "    \n",
    "    Args:\n",
    "        data (DataFrame): The data you want to create features from. Must subsequences (list): A list of subsequences to count\n",
    "        \n",
    "    Returns:\n",
    "        DataFrame: A DataFrame with one column for each subsequence\n",
    "    \"\"\"\n",
    "    \n",
    "    features = pd.DataFrame(index=data.index)\n",
    "    for subseq in subsequences:\n",
    "        features[subseq] = data.sequence.str.count(subseq)\n",
    "    return features"
   ]
  },
  {
   "cell_type": "code",
   "execution_count": 18,
   "metadata": {},
   "outputs": [
    {
     "data": {
      "text/html": [
       "<div>\n",
       "<style scoped>\n",
       "    .dataframe tbody tr th:only-of-type {\n",
       "        vertical-align: middle;\n",
       "    }\n",
       "\n",
       "    .dataframe tbody tr th {\n",
       "        vertical-align: top;\n",
       "    }\n",
       "\n",
       "    .dataframe thead th {\n",
       "        text-align: right;\n",
       "    }\n",
       "</style>\n",
       "<table border=\"1\" class=\"dataframe\">\n",
       "  <thead>\n",
       "    <tr style=\"text-align: right;\">\n",
       "      <th></th>\n",
       "      <th>CAGT</th>\n",
       "      <th>CAGN</th>\n",
       "      <th>CATG</th>\n",
       "      <th>CATN</th>\n",
       "      <th>CANG</th>\n",
       "      <th>CANT</th>\n",
       "      <th>CGAT</th>\n",
       "      <th>CGAN</th>\n",
       "      <th>CGTA</th>\n",
       "      <th>CGTN</th>\n",
       "      <th>...</th>\n",
       "      <th>NGAC</th>\n",
       "      <th>NGAT</th>\n",
       "      <th>NGTC</th>\n",
       "      <th>NGTA</th>\n",
       "      <th>NTCA</th>\n",
       "      <th>NTCG</th>\n",
       "      <th>NTAC</th>\n",
       "      <th>NTAG</th>\n",
       "      <th>NTGC</th>\n",
       "      <th>NTGA</th>\n",
       "    </tr>\n",
       "    <tr>\n",
       "      <th>sequence_id</th>\n",
       "      <th></th>\n",
       "      <th></th>\n",
       "      <th></th>\n",
       "      <th></th>\n",
       "      <th></th>\n",
       "      <th></th>\n",
       "      <th></th>\n",
       "      <th></th>\n",
       "      <th></th>\n",
       "      <th></th>\n",
       "      <th></th>\n",
       "      <th></th>\n",
       "      <th></th>\n",
       "      <th></th>\n",
       "      <th></th>\n",
       "      <th></th>\n",
       "      <th></th>\n",
       "      <th></th>\n",
       "      <th></th>\n",
       "      <th></th>\n",
       "      <th></th>\n",
       "    </tr>\n",
       "  </thead>\n",
       "  <tbody>\n",
       "    <tr>\n",
       "      <th>9ZIMC</th>\n",
       "      <td>25</td>\n",
       "      <td>0</td>\n",
       "      <td>28</td>\n",
       "      <td>0</td>\n",
       "      <td>0</td>\n",
       "      <td>0</td>\n",
       "      <td>17</td>\n",
       "      <td>0</td>\n",
       "      <td>14</td>\n",
       "      <td>0</td>\n",
       "      <td>...</td>\n",
       "      <td>0</td>\n",
       "      <td>0</td>\n",
       "      <td>0</td>\n",
       "      <td>0</td>\n",
       "      <td>0</td>\n",
       "      <td>0</td>\n",
       "      <td>0</td>\n",
       "      <td>0</td>\n",
       "      <td>0</td>\n",
       "      <td>0</td>\n",
       "    </tr>\n",
       "    <tr>\n",
       "      <th>5SAQC</th>\n",
       "      <td>3</td>\n",
       "      <td>0</td>\n",
       "      <td>2</td>\n",
       "      <td>0</td>\n",
       "      <td>0</td>\n",
       "      <td>0</td>\n",
       "      <td>0</td>\n",
       "      <td>0</td>\n",
       "      <td>0</td>\n",
       "      <td>0</td>\n",
       "      <td>...</td>\n",
       "      <td>0</td>\n",
       "      <td>0</td>\n",
       "      <td>0</td>\n",
       "      <td>0</td>\n",
       "      <td>0</td>\n",
       "      <td>0</td>\n",
       "      <td>0</td>\n",
       "      <td>0</td>\n",
       "      <td>0</td>\n",
       "      <td>0</td>\n",
       "    </tr>\n",
       "    <tr>\n",
       "      <th>E7QRO</th>\n",
       "      <td>0</td>\n",
       "      <td>0</td>\n",
       "      <td>0</td>\n",
       "      <td>0</td>\n",
       "      <td>0</td>\n",
       "      <td>0</td>\n",
       "      <td>1</td>\n",
       "      <td>1</td>\n",
       "      <td>0</td>\n",
       "      <td>0</td>\n",
       "      <td>...</td>\n",
       "      <td>0</td>\n",
       "      <td>0</td>\n",
       "      <td>0</td>\n",
       "      <td>0</td>\n",
       "      <td>0</td>\n",
       "      <td>0</td>\n",
       "      <td>0</td>\n",
       "      <td>0</td>\n",
       "      <td>0</td>\n",
       "      <td>0</td>\n",
       "    </tr>\n",
       "    <tr>\n",
       "      <th>CT5FP</th>\n",
       "      <td>3</td>\n",
       "      <td>0</td>\n",
       "      <td>3</td>\n",
       "      <td>0</td>\n",
       "      <td>0</td>\n",
       "      <td>0</td>\n",
       "      <td>0</td>\n",
       "      <td>0</td>\n",
       "      <td>1</td>\n",
       "      <td>0</td>\n",
       "      <td>...</td>\n",
       "      <td>0</td>\n",
       "      <td>0</td>\n",
       "      <td>0</td>\n",
       "      <td>0</td>\n",
       "      <td>0</td>\n",
       "      <td>0</td>\n",
       "      <td>0</td>\n",
       "      <td>0</td>\n",
       "      <td>0</td>\n",
       "      <td>0</td>\n",
       "    </tr>\n",
       "    <tr>\n",
       "      <th>7PTD8</th>\n",
       "      <td>4</td>\n",
       "      <td>0</td>\n",
       "      <td>7</td>\n",
       "      <td>0</td>\n",
       "      <td>1</td>\n",
       "      <td>0</td>\n",
       "      <td>1</td>\n",
       "      <td>0</td>\n",
       "      <td>2</td>\n",
       "      <td>0</td>\n",
       "      <td>...</td>\n",
       "      <td>0</td>\n",
       "      <td>0</td>\n",
       "      <td>0</td>\n",
       "      <td>0</td>\n",
       "      <td>0</td>\n",
       "      <td>0</td>\n",
       "      <td>0</td>\n",
       "      <td>0</td>\n",
       "      <td>0</td>\n",
       "      <td>0</td>\n",
       "    </tr>\n",
       "  </tbody>\n",
       "</table>\n",
       "<p>5 rows × 120 columns</p>\n",
       "</div>"
      ],
      "text/plain": [
       "             CAGT  CAGN  CATG  CATN  CANG  CANT  CGAT  CGAN  CGTA  CGTN  ...  \\\n",
       "sequence_id                                                              ...   \n",
       "9ZIMC          25     0    28     0     0     0    17     0    14     0  ...   \n",
       "5SAQC           3     0     2     0     0     0     0     0     0     0  ...   \n",
       "E7QRO           0     0     0     0     0     0     1     1     0     0  ...   \n",
       "CT5FP           3     0     3     0     0     0     0     0     1     0  ...   \n",
       "7PTD8           4     0     7     0     1     0     1     0     2     0  ...   \n",
       "\n",
       "             NGAC  NGAT  NGTC  NGTA  NTCA  NTCG  NTAC  NTAG  NTGC  NTGA  \n",
       "sequence_id                                                              \n",
       "9ZIMC           0     0     0     0     0     0     0     0     0     0  \n",
       "5SAQC           0     0     0     0     0     0     0     0     0     0  \n",
       "E7QRO           0     0     0     0     0     0     0     0     0     0  \n",
       "CT5FP           0     0     0     0     0     0     0     0     0     0  \n",
       "7PTD8           0     0     0     0     0     0     0     0     0     0  \n",
       "\n",
       "[5 rows x 120 columns]"
      ]
     },
     "execution_count": 18,
     "metadata": {},
     "output_type": "execute_result"
    }
   ],
   "source": [
    "# Calculate n-gram features on our training set\n",
    "ngram_features = get_ngram_features(train_values, subsequences)\n",
    "ngram_features.head()"
   ]
  },
  {
   "cell_type": "code",
   "execution_count": 29,
   "metadata": {},
   "outputs": [
    {
     "data": {
      "text/plain": [
       "(63017, 120)"
      ]
     },
     "execution_count": 29,
     "metadata": {},
     "output_type": "execute_result"
    }
   ],
   "source": [
    "ngram_features.shape"
   ]
  },
  {
   "cell_type": "code",
   "execution_count": 19,
   "metadata": {},
   "outputs": [
    {
     "data": {
      "text/html": [
       "<div>\n",
       "<style scoped>\n",
       "    .dataframe tbody tr th:only-of-type {\n",
       "        vertical-align: middle;\n",
       "    }\n",
       "\n",
       "    .dataframe tbody tr th {\n",
       "        vertical-align: top;\n",
       "    }\n",
       "\n",
       "    .dataframe thead th {\n",
       "        text-align: right;\n",
       "    }\n",
       "</style>\n",
       "<table border=\"1\" class=\"dataframe\">\n",
       "  <thead>\n",
       "    <tr style=\"text-align: right;\">\n",
       "      <th></th>\n",
       "      <th>CAGT</th>\n",
       "      <th>CAGN</th>\n",
       "      <th>CATG</th>\n",
       "      <th>CATN</th>\n",
       "      <th>CANG</th>\n",
       "      <th>CANT</th>\n",
       "      <th>CGAT</th>\n",
       "      <th>CGAN</th>\n",
       "      <th>CGTA</th>\n",
       "      <th>CGTN</th>\n",
       "      <th>...</th>\n",
       "      <th>species_budding_yeast</th>\n",
       "      <th>species_fly</th>\n",
       "      <th>species_human</th>\n",
       "      <th>species_mouse</th>\n",
       "      <th>species_mustard_weed</th>\n",
       "      <th>species_nematode</th>\n",
       "      <th>species_other</th>\n",
       "      <th>species_rat</th>\n",
       "      <th>species_synthetic</th>\n",
       "      <th>species_zebrafish</th>\n",
       "    </tr>\n",
       "    <tr>\n",
       "      <th>sequence_id</th>\n",
       "      <th></th>\n",
       "      <th></th>\n",
       "      <th></th>\n",
       "      <th></th>\n",
       "      <th></th>\n",
       "      <th></th>\n",
       "      <th></th>\n",
       "      <th></th>\n",
       "      <th></th>\n",
       "      <th></th>\n",
       "      <th></th>\n",
       "      <th></th>\n",
       "      <th></th>\n",
       "      <th></th>\n",
       "      <th></th>\n",
       "      <th></th>\n",
       "      <th></th>\n",
       "      <th></th>\n",
       "      <th></th>\n",
       "      <th></th>\n",
       "      <th></th>\n",
       "    </tr>\n",
       "  </thead>\n",
       "  <tbody>\n",
       "    <tr>\n",
       "      <th>9ZIMC</th>\n",
       "      <td>25</td>\n",
       "      <td>0</td>\n",
       "      <td>28</td>\n",
       "      <td>0</td>\n",
       "      <td>0</td>\n",
       "      <td>0</td>\n",
       "      <td>17</td>\n",
       "      <td>0</td>\n",
       "      <td>14</td>\n",
       "      <td>0</td>\n",
       "      <td>...</td>\n",
       "      <td>0.0</td>\n",
       "      <td>0.0</td>\n",
       "      <td>0.0</td>\n",
       "      <td>1.0</td>\n",
       "      <td>0.0</td>\n",
       "      <td>0.0</td>\n",
       "      <td>0.0</td>\n",
       "      <td>0.0</td>\n",
       "      <td>0.0</td>\n",
       "      <td>0.0</td>\n",
       "    </tr>\n",
       "    <tr>\n",
       "      <th>5SAQC</th>\n",
       "      <td>3</td>\n",
       "      <td>0</td>\n",
       "      <td>2</td>\n",
       "      <td>0</td>\n",
       "      <td>0</td>\n",
       "      <td>0</td>\n",
       "      <td>0</td>\n",
       "      <td>0</td>\n",
       "      <td>0</td>\n",
       "      <td>0</td>\n",
       "      <td>...</td>\n",
       "      <td>0.0</td>\n",
       "      <td>0.0</td>\n",
       "      <td>0.0</td>\n",
       "      <td>1.0</td>\n",
       "      <td>0.0</td>\n",
       "      <td>0.0</td>\n",
       "      <td>0.0</td>\n",
       "      <td>0.0</td>\n",
       "      <td>0.0</td>\n",
       "      <td>0.0</td>\n",
       "    </tr>\n",
       "    <tr>\n",
       "      <th>E7QRO</th>\n",
       "      <td>0</td>\n",
       "      <td>0</td>\n",
       "      <td>0</td>\n",
       "      <td>0</td>\n",
       "      <td>0</td>\n",
       "      <td>0</td>\n",
       "      <td>1</td>\n",
       "      <td>1</td>\n",
       "      <td>0</td>\n",
       "      <td>0</td>\n",
       "      <td>...</td>\n",
       "      <td>0.0</td>\n",
       "      <td>0.0</td>\n",
       "      <td>0.0</td>\n",
       "      <td>1.0</td>\n",
       "      <td>0.0</td>\n",
       "      <td>0.0</td>\n",
       "      <td>0.0</td>\n",
       "      <td>0.0</td>\n",
       "      <td>0.0</td>\n",
       "      <td>0.0</td>\n",
       "    </tr>\n",
       "    <tr>\n",
       "      <th>CT5FP</th>\n",
       "      <td>3</td>\n",
       "      <td>0</td>\n",
       "      <td>3</td>\n",
       "      <td>0</td>\n",
       "      <td>0</td>\n",
       "      <td>0</td>\n",
       "      <td>0</td>\n",
       "      <td>0</td>\n",
       "      <td>1</td>\n",
       "      <td>0</td>\n",
       "      <td>...</td>\n",
       "      <td>0.0</td>\n",
       "      <td>0.0</td>\n",
       "      <td>0.0</td>\n",
       "      <td>1.0</td>\n",
       "      <td>0.0</td>\n",
       "      <td>0.0</td>\n",
       "      <td>0.0</td>\n",
       "      <td>0.0</td>\n",
       "      <td>0.0</td>\n",
       "      <td>0.0</td>\n",
       "    </tr>\n",
       "    <tr>\n",
       "      <th>7PTD8</th>\n",
       "      <td>4</td>\n",
       "      <td>0</td>\n",
       "      <td>7</td>\n",
       "      <td>0</td>\n",
       "      <td>1</td>\n",
       "      <td>0</td>\n",
       "      <td>1</td>\n",
       "      <td>0</td>\n",
       "      <td>2</td>\n",
       "      <td>0</td>\n",
       "      <td>...</td>\n",
       "      <td>0.0</td>\n",
       "      <td>0.0</td>\n",
       "      <td>0.0</td>\n",
       "      <td>1.0</td>\n",
       "      <td>0.0</td>\n",
       "      <td>0.0</td>\n",
       "      <td>0.0</td>\n",
       "      <td>0.0</td>\n",
       "      <td>0.0</td>\n",
       "      <td>0.0</td>\n",
       "    </tr>\n",
       "  </tbody>\n",
       "</table>\n",
       "<p>5 rows × 159 columns</p>\n",
       "</div>"
      ],
      "text/plain": [
       "             CAGT  CAGN  CATG  CATN  CANG  CANT  CGAT  CGAN  CGTA  CGTN  ...  \\\n",
       "sequence_id                                                              ...   \n",
       "9ZIMC          25     0    28     0     0     0    17     0    14     0  ...   \n",
       "5SAQC           3     0     2     0     0     0     0     0     0     0  ...   \n",
       "E7QRO           0     0     0     0     0     0     1     1     0     0  ...   \n",
       "CT5FP           3     0     3     0     0     0     0     0     1     0  ...   \n",
       "7PTD8           4     0     7     0     1     0     1     0     2     0  ...   \n",
       "\n",
       "             species_budding_yeast  species_fly  species_human  species_mouse  \\\n",
       "sequence_id                                                                     \n",
       "9ZIMC                          0.0          0.0            0.0            1.0   \n",
       "5SAQC                          0.0          0.0            0.0            1.0   \n",
       "E7QRO                          0.0          0.0            0.0            1.0   \n",
       "CT5FP                          0.0          0.0            0.0            1.0   \n",
       "7PTD8                          0.0          0.0            0.0            1.0   \n",
       "\n",
       "             species_mustard_weed  species_nematode  species_other  \\\n",
       "sequence_id                                                          \n",
       "9ZIMC                         0.0               0.0            0.0   \n",
       "5SAQC                         0.0               0.0            0.0   \n",
       "E7QRO                         0.0               0.0            0.0   \n",
       "CT5FP                         0.0               0.0            0.0   \n",
       "7PTD8                         0.0               0.0            0.0   \n",
       "\n",
       "             species_rat  species_synthetic  species_zebrafish  \n",
       "sequence_id                                                     \n",
       "9ZIMC                0.0                0.0                0.0  \n",
       "5SAQC                0.0                0.0                0.0  \n",
       "E7QRO                0.0                0.0                0.0  \n",
       "CT5FP                0.0                0.0                0.0  \n",
       "7PTD8                0.0                0.0                0.0  \n",
       "\n",
       "[5 rows x 159 columns]"
      ]
     },
     "execution_count": 19,
     "metadata": {},
     "output_type": "execute_result"
    }
   ],
   "source": [
    "all_features = ngram_features.join(train_values.drop('sequence', axis=1))\n",
    "\n",
    "all_features.head()"
   ]
  },
  {
   "cell_type": "code",
   "execution_count": 20,
   "metadata": {},
   "outputs": [
    {
     "data": {
      "text/plain": [
       "(63017, 159)"
      ]
     },
     "execution_count": 20,
     "metadata": {},
     "output_type": "execute_result"
    }
   ],
   "source": [
    "all_features.shape"
   ]
  },
  {
   "cell_type": "markdown",
   "metadata": {},
   "source": [
    "### 300 Processing Top Ten Metric"
   ]
  },
  {
   "cell_type": "code",
   "execution_count": 21,
   "metadata": {},
   "outputs": [],
   "source": [
    "def top10_accuracy_scorer(estimator, X, y):\n",
    "    \"\"\"A custom scorer that evaluates a model on whether the correct label the top 10 most probably predictions.\n",
    "    \n",
    "    Args:\n",
    "        estimatory (sklearn estimator): The skLearn model that should be evaluatioed \n",
    "        X (numpy array): The validation data.\n",
    "        y (numpy array): The ground truth lables.\n",
    "        \n",
    "    Returns:\n",
    "        float: Accuracy of the model as defined by the proportion of prediction in which the correct label was in Top 10\n",
    "    \"\"\"\n",
    "    # predict the probabilities across all possible labels for rows in our training set\n",
    "    probas = estimator.predict_proba(X)\n",
    "    \n",
    "    # get the indices for top 10 predictions for each row; these are these are the last ten in each row\n",
    "    # Note: We use argpartition, which is O(n), vs argsort, which uses the quicksort algorithm \n",
    "    # by default and is O(n^2) in the worst case. We can do this because we only need the top ten\n",
    "    # partitioned, not in sorted order.\n",
    "    \n",
    "    # Documentation: https://numpy.org/doc/1.18/reference/generated/numpy.argpartition.html\n",
    "    top10_idx = np.argpartition(probas, -10, axis=1)[:, -10:]\n",
    "    \n",
    "    # index into the classes list using the top ten indices to get the class names\n",
    "    top10_preds = estimator.classes_[top10_idx]\n",
    "\n",
    "    # check if y-true is in top 10 for each set of predictions\n",
    "    mask = top10_preds == y.reshape((y.size, 1))\n",
    "    \n",
    "    # take the mean\n",
    "    top_10_accuracy = mask.any(axis=1).mean()\n",
    " \n",
    "    return top_10_accuracy"
   ]
  },
  {
   "cell_type": "markdown",
   "metadata": {},
   "source": [
    "### 350 Break apart Training Data Set into Train-Validate-Test"
   ]
  },
  {
   "cell_type": "code",
   "execution_count": 27,
   "metadata": {},
   "outputs": [],
   "source": [
    "from sklearn.model_selection import train_test_split"
   ]
  },
  {
   "cell_type": "code",
   "execution_count": null,
   "metadata": {},
   "outputs": [],
   "source": [
    "def quickSplit(X,y, TEST_SIZE=0.2):\n",
    "    if X.shape[0] ==1:\n",
    "        X_train = X\n",
    "        X_test  = X\n",
    "        y_train = y\n",
    "        y_test  = y\n",
    "    else:\n",
    "        X_train,X_test,y_train,y_test = train_test_split(X,y,test_size = TEST_SIZE)\n",
    "    return X_train,X_test,y_train,y_test"
   ]
  },
  {
   "cell_type": "code",
   "execution_count": null,
   "metadata": {},
   "outputs": [],
   "source": [
    "def randomDummySplit(df_X,df_y,TEST_SIZE=0.2):\n",
    "    ls_y_labels = list(df_y.columns)\n",
    "    ls_y_labels.pop(0)\n",
    "    #print(ls_y_labels)\n",
    "    X_train = pd.DataFrame()\n",
    "    X_test  = pd.DataFrame()\n",
    "    y_train = pd.DataFrame()\n",
    "    y_test  = pd.DataFrame()\n",
    "    for label in ls_y_labels:\n",
    "        y = df_y[df_y[label] == 1]\n",
    "        X = df_X.loc[y.index]\n",
    "        \n",
    "        Xa,Xb,ya,yb  =  quickSplit(X,y,TEST_SIZE)\n",
    "\n",
    "        X_train = X_train.append(Xa)\n",
    "        X_test  = X_test.append(Xb)\n",
    "        y_train = y_train.append(ya)\n",
    "        y_test  = y_test.append(yb)\n",
    "    \n",
    "    return X_train,X_test,y_train,y_test\n"
   ]
  },
  {
   "cell_type": "code",
   "execution_count": null,
   "metadata": {},
   "outputs": [],
   "source": [
    "start = time.perf_counter()\n",
    "X_train,X_test,y_train,y_test = randomDummySplit(all_features,train_labels,TEST_SIZE=0.3)\n",
    "end   = time.perf_counter()\n",
    "\n",
    "print(end-start)"
   ]
  },
  {
   "cell_type": "code",
   "execution_count": null,
   "metadata": {},
   "outputs": [],
   "source": [
    "# X_train, X_test, y_train, y_test = train_test_split(train_values, train_labels, test_size=0.20, random_state=42)\n",
    "\n",
    "X_main,  X_holdout,  y_main,  y_holdout  = train_test_split(all_features, lab_ids, test_size=0.20, random_state=42)\n",
    "\n",
    "X_train, X_validate, y_train, y_validate = train_test_split(X_main, y_main, test_size=0.20, random_state=42)"
   ]
  },
  {
   "cell_type": "markdown",
   "metadata": {},
   "source": [
    "### 400 ML Model\n",
    "#### 410 Random Forest"
   ]
  },
  {
   "cell_type": "code",
   "execution_count": 24,
   "metadata": {},
   "outputs": [],
   "source": [
    "from sklearn.ensemble import RandomForestClassifier"
   ]
  },
  {
   "cell_type": "code",
   "execution_count": 29,
   "metadata": {},
   "outputs": [],
   "source": [
    "# Rename our feature array\n",
    "# X = all_features\n",
    "X = X_train                        # 64% of the 63,000 original Samples for 40,324\n",
    "\n",
    "# Create our labels\n",
    "# y = lab_ids.values.ravel()\n",
    "y = y_train.values.ravel()"
   ]
  },
  {
   "cell_type": "code",
   "execution_count": 30,
   "metadata": {},
   "outputs": [
    {
     "data": {
      "text/plain": [
       "RandomForestClassifier(class_weight='balanced', max_depth=3, n_estimators=150,\n",
       "                       n_jobs=4, random_state=0)"
      ]
     },
     "execution_count": 30,
     "metadata": {},
     "output_type": "execute_result"
    }
   ],
   "source": [
    "# Instantiate our Random Forest Classifier; defaults 'gini' impurity, boostrap=True, \n",
    "rf = RandomForestClassifier(\n",
    "    n_jobs       = 4,          # number of jobs to run\n",
    "    n_estimators = 150,        # number of trees in the forest\n",
    "    class_weight = 'balanced', # balance classes\n",
    "    max_depth    = 3,          # shallow tree depth to prevent overfitting\n",
    "    random_state = 0           # set a seed for reproducibility\n",
    ")\n",
    "\n",
    "# fit our model\n",
    "rf.fit(X,y)"
   ]
  },
  {
   "cell_type": "code",
   "execution_count": 31,
   "metadata": {},
   "outputs": [
    {
     "data": {
      "text/plain": [
       "0.16149268534589636"
      ]
     },
     "execution_count": 31,
     "metadata": {},
     "output_type": "execute_result"
    }
   ],
   "source": [
    "rf.score(X, y)"
   ]
  },
  {
   "cell_type": "code",
   "execution_count": 32,
   "metadata": {},
   "outputs": [
    {
     "data": {
      "text/plain": [
       "0.38596578229605755"
      ]
     },
     "execution_count": 32,
     "metadata": {},
     "output_type": "execute_result"
    }
   ],
   "source": [
    "top10_accuracy_scorer(rf, X, y)"
   ]
  },
  {
   "cell_type": "markdown",
   "metadata": {},
   "source": [
    "### 500 Make Predictions"
   ]
  },
  {
   "cell_type": "code",
   "execution_count": 60,
   "metadata": {},
   "outputs": [
    {
     "data": {
      "text/plain": [
       "sequence                                 0\n",
       "bacterial_resistance_ampicillin         14\n",
       "bacterial_resistance_chloramphenicol    14\n",
       "bacterial_resistance_kanamycin          14\n",
       "bacterial_resistance_other              14\n",
       "bacterial_resistance_spectinomycin      14\n",
       "copy_number_high_copy                   14\n",
       "copy_number_low_copy                    14\n",
       "copy_number_unknown                     14\n",
       "growth_strain_ccdb_survival             14\n",
       "growth_strain_dh10b                     14\n",
       "growth_strain_dh5alpha                  14\n",
       "growth_strain_neb_stable                14\n",
       "growth_strain_other                     14\n",
       "growth_strain_stbl3                     14\n",
       "growth_strain_top10                     14\n",
       "growth_strain_xl1_blue                  14\n",
       "growth_temp_30                          14\n",
       "growth_temp_37                          14\n",
       "growth_temp_other                       14\n",
       "selectable_markers_blasticidin          14\n",
       "selectable_markers_his3                 14\n",
       "selectable_markers_hygromycin           14\n",
       "selectable_markers_leu2                 14\n",
       "selectable_markers_neomycin             14\n",
       "selectable_markers_other                14\n",
       "selectable_markers_puromycin            14\n",
       "selectable_markers_trp1                 14\n",
       "selectable_markers_ura3                 14\n",
       "selectable_markers_zeocin               14\n",
       "species_budding_yeast                   14\n",
       "species_fly                             14\n",
       "species_human                           14\n",
       "species_mouse                           14\n",
       "species_mustard_weed                    14\n",
       "species_nematode                        14\n",
       "species_other                           14\n",
       "species_rat                             14\n",
       "species_synthetic                       14\n",
       "species_zebrafish                       28\n",
       "dtype: int64"
      ]
     },
     "execution_count": 60,
     "metadata": {},
     "output_type": "execute_result"
    }
   ],
   "source": [
    "test_values.isnull().sum()"
   ]
  },
  {
   "cell_type": "code",
   "execution_count": 77,
   "metadata": {},
   "outputs": [
    {
     "data": {
      "text/plain": [
       "sequence                                0\n",
       "bacterial_resistance_ampicillin         0\n",
       "bacterial_resistance_chloramphenicol    0\n",
       "bacterial_resistance_kanamycin          0\n",
       "bacterial_resistance_other              0\n",
       "bacterial_resistance_spectinomycin      0\n",
       "copy_number_high_copy                   0\n",
       "copy_number_low_copy                    0\n",
       "copy_number_unknown                     0\n",
       "growth_strain_ccdb_survival             0\n",
       "growth_strain_dh10b                     0\n",
       "growth_strain_dh5alpha                  0\n",
       "growth_strain_neb_stable                0\n",
       "growth_strain_other                     0\n",
       "growth_strain_stbl3                     0\n",
       "growth_strain_top10                     0\n",
       "growth_strain_xl1_blue                  0\n",
       "growth_temp_30                          0\n",
       "growth_temp_37                          0\n",
       "growth_temp_other                       0\n",
       "selectable_markers_blasticidin          0\n",
       "selectable_markers_his3                 0\n",
       "selectable_markers_hygromycin           0\n",
       "selectable_markers_leu2                 0\n",
       "selectable_markers_neomycin             0\n",
       "selectable_markers_other                0\n",
       "selectable_markers_puromycin            0\n",
       "selectable_markers_trp1                 0\n",
       "selectable_markers_ura3                 0\n",
       "selectable_markers_zeocin               0\n",
       "species_budding_yeast                   0\n",
       "species_fly                             0\n",
       "species_human                           0\n",
       "species_mouse                           0\n",
       "species_mustard_weed                    0\n",
       "species_nematode                        0\n",
       "species_other                           0\n",
       "species_rat                             0\n",
       "species_synthetic                       0\n",
       "species_zebrafish                       0\n",
       "dtype: int64"
      ]
     },
     "execution_count": 77,
     "metadata": {},
     "output_type": "execute_result"
    }
   ],
   "source": [
    "test_values_filled = test_values.fillna(0)\n",
    "#test_values_filled = test_values.dropna(0)\n",
    "test_values_filled.isnull().sum()"
   ]
  },
  {
   "cell_type": "code",
   "execution_count": 64,
   "metadata": {},
   "outputs": [],
   "source": [
    "#test_ngram_features = get_ngram_features(test_values, subsequences)\n",
    "test_ngram_features = get_ngram_features(test_values_filled, subsequences)\n",
    "all_test_features   = test_ngram_features.join(test_values_filled.drop('sequence', axis=1))"
   ]
  },
  {
   "cell_type": "code",
   "execution_count": null,
   "metadata": {},
   "outputs": [],
   "source": []
  },
  {
   "cell_type": "code",
   "execution_count": null,
   "metadata": {},
   "outputs": [],
   "source": []
  },
  {
   "cell_type": "code",
   "execution_count": 65,
   "metadata": {},
   "outputs": [
    {
     "data": {
      "text/html": [
       "<div>\n",
       "<style scoped>\n",
       "    .dataframe tbody tr th:only-of-type {\n",
       "        vertical-align: middle;\n",
       "    }\n",
       "\n",
       "    .dataframe tbody tr th {\n",
       "        vertical-align: top;\n",
       "    }\n",
       "\n",
       "    .dataframe thead th {\n",
       "        text-align: right;\n",
       "    }\n",
       "</style>\n",
       "<table border=\"1\" class=\"dataframe\">\n",
       "  <thead>\n",
       "    <tr style=\"text-align: right;\">\n",
       "      <th></th>\n",
       "      <th>NACT</th>\n",
       "      <th>NACG</th>\n",
       "      <th>NATC</th>\n",
       "      <th>NATG</th>\n",
       "      <th>NAGC</th>\n",
       "      <th>NAGT</th>\n",
       "      <th>NCAT</th>\n",
       "      <th>NCAG</th>\n",
       "      <th>NCTA</th>\n",
       "      <th>NCTG</th>\n",
       "      <th>...</th>\n",
       "      <th>species_budding_yeast</th>\n",
       "      <th>species_fly</th>\n",
       "      <th>species_human</th>\n",
       "      <th>species_mouse</th>\n",
       "      <th>species_mustard_weed</th>\n",
       "      <th>species_nematode</th>\n",
       "      <th>species_other</th>\n",
       "      <th>species_rat</th>\n",
       "      <th>species_synthetic</th>\n",
       "      <th>species_zebrafish</th>\n",
       "    </tr>\n",
       "  </thead>\n",
       "  <tbody>\n",
       "    <tr>\n",
       "      <th>count</th>\n",
       "      <td>18830.000000</td>\n",
       "      <td>18830.000000</td>\n",
       "      <td>18830.000000</td>\n",
       "      <td>18830.000000</td>\n",
       "      <td>18830.000000</td>\n",
       "      <td>18830.000000</td>\n",
       "      <td>18830.000000</td>\n",
       "      <td>18830.000000</td>\n",
       "      <td>18830.000000</td>\n",
       "      <td>18830.000000</td>\n",
       "      <td>...</td>\n",
       "      <td>18830.000000</td>\n",
       "      <td>18830.000000</td>\n",
       "      <td>18830.000000</td>\n",
       "      <td>18830.000000</td>\n",
       "      <td>18830.000000</td>\n",
       "      <td>18830.000000</td>\n",
       "      <td>18830.000000</td>\n",
       "      <td>18830.000000</td>\n",
       "      <td>18830.000000</td>\n",
       "      <td>18830.00000</td>\n",
       "    </tr>\n",
       "    <tr>\n",
       "      <th>mean</th>\n",
       "      <td>0.006160</td>\n",
       "      <td>0.004620</td>\n",
       "      <td>0.006213</td>\n",
       "      <td>0.005258</td>\n",
       "      <td>0.006213</td>\n",
       "      <td>0.004620</td>\n",
       "      <td>0.005364</td>\n",
       "      <td>0.005789</td>\n",
       "      <td>0.004249</td>\n",
       "      <td>0.009241</td>\n",
       "      <td>...</td>\n",
       "      <td>0.031545</td>\n",
       "      <td>0.023686</td>\n",
       "      <td>0.365162</td>\n",
       "      <td>0.094264</td>\n",
       "      <td>0.009878</td>\n",
       "      <td>0.013011</td>\n",
       "      <td>0.120181</td>\n",
       "      <td>0.020340</td>\n",
       "      <td>0.124482</td>\n",
       "      <td>0.02119</td>\n",
       "    </tr>\n",
       "    <tr>\n",
       "      <th>std</th>\n",
       "      <td>0.105428</td>\n",
       "      <td>0.080692</td>\n",
       "      <td>0.101576</td>\n",
       "      <td>0.081308</td>\n",
       "      <td>0.099463</td>\n",
       "      <td>0.077331</td>\n",
       "      <td>0.089391</td>\n",
       "      <td>0.095679</td>\n",
       "      <td>0.075616</td>\n",
       "      <td>0.156369</td>\n",
       "      <td>...</td>\n",
       "      <td>0.174791</td>\n",
       "      <td>0.152072</td>\n",
       "      <td>0.481488</td>\n",
       "      <td>0.292204</td>\n",
       "      <td>0.098898</td>\n",
       "      <td>0.113325</td>\n",
       "      <td>0.325181</td>\n",
       "      <td>0.141164</td>\n",
       "      <td>0.330140</td>\n",
       "      <td>0.14402</td>\n",
       "    </tr>\n",
       "    <tr>\n",
       "      <th>min</th>\n",
       "      <td>0.000000</td>\n",
       "      <td>0.000000</td>\n",
       "      <td>0.000000</td>\n",
       "      <td>0.000000</td>\n",
       "      <td>0.000000</td>\n",
       "      <td>0.000000</td>\n",
       "      <td>0.000000</td>\n",
       "      <td>0.000000</td>\n",
       "      <td>0.000000</td>\n",
       "      <td>0.000000</td>\n",
       "      <td>...</td>\n",
       "      <td>0.000000</td>\n",
       "      <td>0.000000</td>\n",
       "      <td>0.000000</td>\n",
       "      <td>0.000000</td>\n",
       "      <td>0.000000</td>\n",
       "      <td>0.000000</td>\n",
       "      <td>0.000000</td>\n",
       "      <td>0.000000</td>\n",
       "      <td>0.000000</td>\n",
       "      <td>0.00000</td>\n",
       "    </tr>\n",
       "    <tr>\n",
       "      <th>25%</th>\n",
       "      <td>0.000000</td>\n",
       "      <td>0.000000</td>\n",
       "      <td>0.000000</td>\n",
       "      <td>0.000000</td>\n",
       "      <td>0.000000</td>\n",
       "      <td>0.000000</td>\n",
       "      <td>0.000000</td>\n",
       "      <td>0.000000</td>\n",
       "      <td>0.000000</td>\n",
       "      <td>0.000000</td>\n",
       "      <td>...</td>\n",
       "      <td>0.000000</td>\n",
       "      <td>0.000000</td>\n",
       "      <td>0.000000</td>\n",
       "      <td>0.000000</td>\n",
       "      <td>0.000000</td>\n",
       "      <td>0.000000</td>\n",
       "      <td>0.000000</td>\n",
       "      <td>0.000000</td>\n",
       "      <td>0.000000</td>\n",
       "      <td>0.00000</td>\n",
       "    </tr>\n",
       "    <tr>\n",
       "      <th>50%</th>\n",
       "      <td>0.000000</td>\n",
       "      <td>0.000000</td>\n",
       "      <td>0.000000</td>\n",
       "      <td>0.000000</td>\n",
       "      <td>0.000000</td>\n",
       "      <td>0.000000</td>\n",
       "      <td>0.000000</td>\n",
       "      <td>0.000000</td>\n",
       "      <td>0.000000</td>\n",
       "      <td>0.000000</td>\n",
       "      <td>...</td>\n",
       "      <td>0.000000</td>\n",
       "      <td>0.000000</td>\n",
       "      <td>0.000000</td>\n",
       "      <td>0.000000</td>\n",
       "      <td>0.000000</td>\n",
       "      <td>0.000000</td>\n",
       "      <td>0.000000</td>\n",
       "      <td>0.000000</td>\n",
       "      <td>0.000000</td>\n",
       "      <td>0.00000</td>\n",
       "    </tr>\n",
       "    <tr>\n",
       "      <th>75%</th>\n",
       "      <td>0.000000</td>\n",
       "      <td>0.000000</td>\n",
       "      <td>0.000000</td>\n",
       "      <td>0.000000</td>\n",
       "      <td>0.000000</td>\n",
       "      <td>0.000000</td>\n",
       "      <td>0.000000</td>\n",
       "      <td>0.000000</td>\n",
       "      <td>0.000000</td>\n",
       "      <td>0.000000</td>\n",
       "      <td>...</td>\n",
       "      <td>0.000000</td>\n",
       "      <td>0.000000</td>\n",
       "      <td>1.000000</td>\n",
       "      <td>0.000000</td>\n",
       "      <td>0.000000</td>\n",
       "      <td>0.000000</td>\n",
       "      <td>0.000000</td>\n",
       "      <td>0.000000</td>\n",
       "      <td>0.000000</td>\n",
       "      <td>0.00000</td>\n",
       "    </tr>\n",
       "    <tr>\n",
       "      <th>max</th>\n",
       "      <td>4.000000</td>\n",
       "      <td>3.000000</td>\n",
       "      <td>4.000000</td>\n",
       "      <td>2.000000</td>\n",
       "      <td>5.000000</td>\n",
       "      <td>4.000000</td>\n",
       "      <td>4.000000</td>\n",
       "      <td>5.000000</td>\n",
       "      <td>3.000000</td>\n",
       "      <td>13.000000</td>\n",
       "      <td>...</td>\n",
       "      <td>1.000000</td>\n",
       "      <td>1.000000</td>\n",
       "      <td>1.000000</td>\n",
       "      <td>1.000000</td>\n",
       "      <td>1.000000</td>\n",
       "      <td>1.000000</td>\n",
       "      <td>1.000000</td>\n",
       "      <td>1.000000</td>\n",
       "      <td>1.000000</td>\n",
       "      <td>1.00000</td>\n",
       "    </tr>\n",
       "  </tbody>\n",
       "</table>\n",
       "<p>8 rows × 159 columns</p>\n",
       "</div>"
      ],
      "text/plain": [
       "               NACT          NACG          NATC          NATG          NAGC  \\\n",
       "count  18830.000000  18830.000000  18830.000000  18830.000000  18830.000000   \n",
       "mean       0.006160      0.004620      0.006213      0.005258      0.006213   \n",
       "std        0.105428      0.080692      0.101576      0.081308      0.099463   \n",
       "min        0.000000      0.000000      0.000000      0.000000      0.000000   \n",
       "25%        0.000000      0.000000      0.000000      0.000000      0.000000   \n",
       "50%        0.000000      0.000000      0.000000      0.000000      0.000000   \n",
       "75%        0.000000      0.000000      0.000000      0.000000      0.000000   \n",
       "max        4.000000      3.000000      4.000000      2.000000      5.000000   \n",
       "\n",
       "               NAGT          NCAT          NCAG          NCTA          NCTG  \\\n",
       "count  18830.000000  18830.000000  18830.000000  18830.000000  18830.000000   \n",
       "mean       0.004620      0.005364      0.005789      0.004249      0.009241   \n",
       "std        0.077331      0.089391      0.095679      0.075616      0.156369   \n",
       "min        0.000000      0.000000      0.000000      0.000000      0.000000   \n",
       "25%        0.000000      0.000000      0.000000      0.000000      0.000000   \n",
       "50%        0.000000      0.000000      0.000000      0.000000      0.000000   \n",
       "75%        0.000000      0.000000      0.000000      0.000000      0.000000   \n",
       "max        4.000000      4.000000      5.000000      3.000000     13.000000   \n",
       "\n",
       "       ...  species_budding_yeast   species_fly  species_human  species_mouse  \\\n",
       "count  ...           18830.000000  18830.000000   18830.000000   18830.000000   \n",
       "mean   ...               0.031545      0.023686       0.365162       0.094264   \n",
       "std    ...               0.174791      0.152072       0.481488       0.292204   \n",
       "min    ...               0.000000      0.000000       0.000000       0.000000   \n",
       "25%    ...               0.000000      0.000000       0.000000       0.000000   \n",
       "50%    ...               0.000000      0.000000       0.000000       0.000000   \n",
       "75%    ...               0.000000      0.000000       1.000000       0.000000   \n",
       "max    ...               1.000000      1.000000       1.000000       1.000000   \n",
       "\n",
       "       species_mustard_weed  species_nematode  species_other   species_rat  \\\n",
       "count          18830.000000      18830.000000   18830.000000  18830.000000   \n",
       "mean               0.009878          0.013011       0.120181      0.020340   \n",
       "std                0.098898          0.113325       0.325181      0.141164   \n",
       "min                0.000000          0.000000       0.000000      0.000000   \n",
       "25%                0.000000          0.000000       0.000000      0.000000   \n",
       "50%                0.000000          0.000000       0.000000      0.000000   \n",
       "75%                0.000000          0.000000       0.000000      0.000000   \n",
       "max                1.000000          1.000000       1.000000      1.000000   \n",
       "\n",
       "       species_synthetic  species_zebrafish  \n",
       "count       18830.000000        18830.00000  \n",
       "mean            0.124482            0.02119  \n",
       "std             0.330140            0.14402  \n",
       "min             0.000000            0.00000  \n",
       "25%             0.000000            0.00000  \n",
       "50%             0.000000            0.00000  \n",
       "75%             0.000000            0.00000  \n",
       "max             1.000000            1.00000  \n",
       "\n",
       "[8 rows x 159 columns]"
      ]
     },
     "execution_count": 65,
     "metadata": {},
     "output_type": "execute_result"
    }
   ],
   "source": [
    "###  Visualize the building blocks to \"all_test_features\" and \"all_test_features\"\n",
    "\n",
    "#test_values.describe()\n",
    "\n",
    "#test_ngram_features.describe()\n",
    "\n",
    "all_test_features.describe()"
   ]
  },
  {
   "cell_type": "code",
   "execution_count": 66,
   "metadata": {},
   "outputs": [
    {
     "data": {
      "text/plain": [
       "array([0.00088718, 0.00105926, 0.00104933, ..., 0.00090433, 0.00025916,\n",
       "       0.00017795])"
      ]
     },
     "execution_count": 66,
     "metadata": {},
     "output_type": "execute_result"
    }
   ],
   "source": [
    "probas = rf.predict_proba(all_test_features)\n",
    "\n",
    "# Examine first row\n",
    "probas[0]"
   ]
  },
  {
   "cell_type": "markdown",
   "metadata": {},
   "source": [
    "#### 520 Save Submission"
   ]
  },
  {
   "cell_type": "code",
   "execution_count": 67,
   "metadata": {},
   "outputs": [],
   "source": [
    "submission_format = pd.read_csv(DATA_DIR + 'submission_format_3TFRxH6.csv', index_col='sequence_id')"
   ]
  },
  {
   "cell_type": "code",
   "execution_count": 81,
   "metadata": {},
   "outputs": [
    {
     "data": {
      "text/html": [
       "<div>\n",
       "<style scoped>\n",
       "    .dataframe tbody tr th:only-of-type {\n",
       "        vertical-align: middle;\n",
       "    }\n",
       "\n",
       "    .dataframe tbody tr th {\n",
       "        vertical-align: top;\n",
       "    }\n",
       "\n",
       "    .dataframe thead th {\n",
       "        text-align: right;\n",
       "    }\n",
       "</style>\n",
       "<table border=\"1\" class=\"dataframe\">\n",
       "  <thead>\n",
       "    <tr style=\"text-align: right;\">\n",
       "      <th></th>\n",
       "      <th>00Q4V31T</th>\n",
       "      <th>012VT4JK</th>\n",
       "      <th>028IO5W2</th>\n",
       "      <th>03GRNN7N</th>\n",
       "      <th>03Y3W51H</th>\n",
       "      <th>09MQV1TY</th>\n",
       "      <th>0A4AHRCT</th>\n",
       "      <th>0A9M05NC</th>\n",
       "      <th>0B9GCUVV</th>\n",
       "      <th>0CL7QVG8</th>\n",
       "      <th>...</th>\n",
       "      <th>ZQNGGY33</th>\n",
       "      <th>ZSHS4VJZ</th>\n",
       "      <th>ZT1IP3T6</th>\n",
       "      <th>ZU6860XU</th>\n",
       "      <th>ZU6TVFFU</th>\n",
       "      <th>ZU75P59K</th>\n",
       "      <th>ZUI6TDWV</th>\n",
       "      <th>ZWFD8OHC</th>\n",
       "      <th>ZX06ZDZN</th>\n",
       "      <th>ZZJVE4HO</th>\n",
       "    </tr>\n",
       "    <tr>\n",
       "      <th>sequence_id</th>\n",
       "      <th></th>\n",
       "      <th></th>\n",
       "      <th></th>\n",
       "      <th></th>\n",
       "      <th></th>\n",
       "      <th></th>\n",
       "      <th></th>\n",
       "      <th></th>\n",
       "      <th></th>\n",
       "      <th></th>\n",
       "      <th></th>\n",
       "      <th></th>\n",
       "      <th></th>\n",
       "      <th></th>\n",
       "      <th></th>\n",
       "      <th></th>\n",
       "      <th></th>\n",
       "      <th></th>\n",
       "      <th></th>\n",
       "      <th></th>\n",
       "      <th></th>\n",
       "    </tr>\n",
       "  </thead>\n",
       "  <tbody>\n",
       "    <tr>\n",
       "      <th>4GGKP</th>\n",
       "      <td>0.0</td>\n",
       "      <td>0.0</td>\n",
       "      <td>0.0</td>\n",
       "      <td>0.0</td>\n",
       "      <td>0.0</td>\n",
       "      <td>0.0</td>\n",
       "      <td>0.0</td>\n",
       "      <td>0.0</td>\n",
       "      <td>0.0</td>\n",
       "      <td>0.0</td>\n",
       "      <td>...</td>\n",
       "      <td>0.0</td>\n",
       "      <td>0.0</td>\n",
       "      <td>0.0</td>\n",
       "      <td>0.0</td>\n",
       "      <td>0.0</td>\n",
       "      <td>0.0</td>\n",
       "      <td>0.0</td>\n",
       "      <td>0.0</td>\n",
       "      <td>0.0</td>\n",
       "      <td>0.0</td>\n",
       "    </tr>\n",
       "    <tr>\n",
       "      <th>37SHJ</th>\n",
       "      <td>0.0</td>\n",
       "      <td>0.0</td>\n",
       "      <td>0.0</td>\n",
       "      <td>0.0</td>\n",
       "      <td>0.0</td>\n",
       "      <td>0.0</td>\n",
       "      <td>0.0</td>\n",
       "      <td>0.0</td>\n",
       "      <td>0.0</td>\n",
       "      <td>0.0</td>\n",
       "      <td>...</td>\n",
       "      <td>0.0</td>\n",
       "      <td>0.0</td>\n",
       "      <td>0.0</td>\n",
       "      <td>0.0</td>\n",
       "      <td>0.0</td>\n",
       "      <td>0.0</td>\n",
       "      <td>0.0</td>\n",
       "      <td>0.0</td>\n",
       "      <td>0.0</td>\n",
       "      <td>0.0</td>\n",
       "    </tr>\n",
       "    <tr>\n",
       "      <th>JS1MB</th>\n",
       "      <td>0.0</td>\n",
       "      <td>0.0</td>\n",
       "      <td>0.0</td>\n",
       "      <td>0.0</td>\n",
       "      <td>0.0</td>\n",
       "      <td>0.0</td>\n",
       "      <td>0.0</td>\n",
       "      <td>0.0</td>\n",
       "      <td>0.0</td>\n",
       "      <td>0.0</td>\n",
       "      <td>...</td>\n",
       "      <td>0.0</td>\n",
       "      <td>0.0</td>\n",
       "      <td>0.0</td>\n",
       "      <td>0.0</td>\n",
       "      <td>0.0</td>\n",
       "      <td>0.0</td>\n",
       "      <td>0.0</td>\n",
       "      <td>0.0</td>\n",
       "      <td>0.0</td>\n",
       "      <td>0.0</td>\n",
       "    </tr>\n",
       "    <tr>\n",
       "      <th>N642G</th>\n",
       "      <td>0.0</td>\n",
       "      <td>0.0</td>\n",
       "      <td>0.0</td>\n",
       "      <td>0.0</td>\n",
       "      <td>0.0</td>\n",
       "      <td>0.0</td>\n",
       "      <td>0.0</td>\n",
       "      <td>0.0</td>\n",
       "      <td>0.0</td>\n",
       "      <td>0.0</td>\n",
       "      <td>...</td>\n",
       "      <td>0.0</td>\n",
       "      <td>0.0</td>\n",
       "      <td>0.0</td>\n",
       "      <td>0.0</td>\n",
       "      <td>0.0</td>\n",
       "      <td>0.0</td>\n",
       "      <td>0.0</td>\n",
       "      <td>0.0</td>\n",
       "      <td>0.0</td>\n",
       "      <td>0.0</td>\n",
       "    </tr>\n",
       "    <tr>\n",
       "      <th>BD9BA</th>\n",
       "      <td>0.0</td>\n",
       "      <td>0.0</td>\n",
       "      <td>0.0</td>\n",
       "      <td>0.0</td>\n",
       "      <td>0.0</td>\n",
       "      <td>0.0</td>\n",
       "      <td>0.0</td>\n",
       "      <td>0.0</td>\n",
       "      <td>0.0</td>\n",
       "      <td>0.0</td>\n",
       "      <td>...</td>\n",
       "      <td>0.0</td>\n",
       "      <td>0.0</td>\n",
       "      <td>0.0</td>\n",
       "      <td>0.0</td>\n",
       "      <td>0.0</td>\n",
       "      <td>0.0</td>\n",
       "      <td>0.0</td>\n",
       "      <td>0.0</td>\n",
       "      <td>0.0</td>\n",
       "      <td>0.0</td>\n",
       "    </tr>\n",
       "  </tbody>\n",
       "</table>\n",
       "<p>5 rows × 1314 columns</p>\n",
       "</div>"
      ],
      "text/plain": [
       "             00Q4V31T  012VT4JK  028IO5W2  03GRNN7N  03Y3W51H  09MQV1TY  \\\n",
       "sequence_id                                                               \n",
       "4GGKP             0.0       0.0       0.0       0.0       0.0       0.0   \n",
       "37SHJ             0.0       0.0       0.0       0.0       0.0       0.0   \n",
       "JS1MB             0.0       0.0       0.0       0.0       0.0       0.0   \n",
       "N642G             0.0       0.0       0.0       0.0       0.0       0.0   \n",
       "BD9BA             0.0       0.0       0.0       0.0       0.0       0.0   \n",
       "\n",
       "             0A4AHRCT  0A9M05NC  0B9GCUVV  0CL7QVG8  ...  ZQNGGY33  ZSHS4VJZ  \\\n",
       "sequence_id                                          ...                       \n",
       "4GGKP             0.0       0.0       0.0       0.0  ...       0.0       0.0   \n",
       "37SHJ             0.0       0.0       0.0       0.0  ...       0.0       0.0   \n",
       "JS1MB             0.0       0.0       0.0       0.0  ...       0.0       0.0   \n",
       "N642G             0.0       0.0       0.0       0.0  ...       0.0       0.0   \n",
       "BD9BA             0.0       0.0       0.0       0.0  ...       0.0       0.0   \n",
       "\n",
       "             ZT1IP3T6  ZU6860XU  ZU6TVFFU  ZU75P59K  ZUI6TDWV  ZWFD8OHC  \\\n",
       "sequence_id                                                               \n",
       "4GGKP             0.0       0.0       0.0       0.0       0.0       0.0   \n",
       "37SHJ             0.0       0.0       0.0       0.0       0.0       0.0   \n",
       "JS1MB             0.0       0.0       0.0       0.0       0.0       0.0   \n",
       "N642G             0.0       0.0       0.0       0.0       0.0       0.0   \n",
       "BD9BA             0.0       0.0       0.0       0.0       0.0       0.0   \n",
       "\n",
       "             ZX06ZDZN  ZZJVE4HO  \n",
       "sequence_id                      \n",
       "4GGKP             0.0       0.0  \n",
       "37SHJ             0.0       0.0  \n",
       "JS1MB             0.0       0.0  \n",
       "N642G             0.0       0.0  \n",
       "BD9BA             0.0       0.0  \n",
       "\n",
       "[5 rows x 1314 columns]"
      ]
     },
     "execution_count": 81,
     "metadata": {},
     "output_type": "execute_result"
    }
   ],
   "source": [
    "submission_format.tail()"
   ]
  },
  {
   "cell_type": "code",
   "execution_count": 82,
   "metadata": {},
   "outputs": [
    {
     "data": {
      "text/plain": [
       "(18830, 40)"
      ]
     },
     "execution_count": 82,
     "metadata": {},
     "output_type": "execute_result"
    }
   ],
   "source": [
    "test_values.shape"
   ]
  },
  {
   "cell_type": "code",
   "execution_count": 76,
   "metadata": {},
   "outputs": [
    {
     "data": {
      "text/plain": [
       "array([[8.87176694e-04, 1.05926202e-03, 1.04932747e-03, ...,\n",
       "        9.04329813e-04, 2.59161673e-04, 1.77954026e-04],\n",
       "       [8.80144548e-04, 1.01660273e-03, 1.03382176e-03, ...,\n",
       "        1.39117929e-03, 2.37448076e-04, 1.69270233e-04],\n",
       "       [7.47511517e-04, 8.82205040e-04, 8.54909862e-04, ...,\n",
       "        7.76211977e-04, 3.78339572e-04, 3.42513582e-04],\n",
       "       ...,\n",
       "       [4.07658541e-04, 9.66057339e-05, 7.43098062e-05, ...,\n",
       "        1.53456621e-04, 1.40304705e-03, 1.89663621e-03],\n",
       "       [4.07658541e-04, 9.66057339e-05, 7.43098062e-05, ...,\n",
       "        1.53456621e-04, 1.40304705e-03, 1.92834380e-03],\n",
       "       [3.58782670e-04, 9.49799627e-05, 7.59668330e-05, ...,\n",
       "        1.54135052e-04, 1.25032136e-03, 2.40988570e-03]])"
      ]
     },
     "execution_count": 76,
     "metadata": {},
     "output_type": "execute_result"
    }
   ],
   "source": [
    "probas"
   ]
  },
  {
   "cell_type": "code",
   "execution_count": 71,
   "metadata": {},
   "outputs": [
    {
     "data": {
      "text/plain": [
       "(18830, 1314)"
      ]
     },
     "execution_count": 71,
     "metadata": {},
     "output_type": "execute_result"
    }
   ],
   "source": [
    "probas.shape"
   ]
  },
  {
   "cell_type": "code",
   "execution_count": 74,
   "metadata": {},
   "outputs": [
    {
     "data": {
      "text/plain": [
       "(18816, 1314)"
      ]
     },
     "execution_count": 74,
     "metadata": {},
     "output_type": "execute_result"
    }
   ],
   "source": [
    "submission_format.shape"
   ]
  },
  {
   "cell_type": "code",
   "execution_count": 78,
   "metadata": {},
   "outputs": [
    {
     "data": {
      "text/plain": [
       "(18802, 40)"
      ]
     },
     "execution_count": 78,
     "metadata": {},
     "output_type": "execute_result"
    }
   ],
   "source": [
    "test_values_filled.shape"
   ]
  },
  {
   "cell_type": "code",
   "execution_count": 70,
   "metadata": {},
   "outputs": [
    {
     "ename": "AssertionError",
     "evalue": "",
     "output_type": "error",
     "traceback": [
      "\u001b[1;31m---------------------------------------------------------------------------\u001b[0m",
      "\u001b[1;31mAssertionError\u001b[0m                            Traceback (most recent call last)",
      "\u001b[1;32m<ipython-input-70-efd1be45de76>\u001b[0m in \u001b[0;36m<module>\u001b[1;34m\u001b[0m\n\u001b[1;32m----> 1\u001b[1;33m \u001b[1;32massert\u001b[0m \u001b[0msubmission_format\u001b[0m\u001b[1;33m.\u001b[0m\u001b[0mshape\u001b[0m \u001b[1;33m==\u001b[0m \u001b[0mprobas\u001b[0m\u001b[1;33m.\u001b[0m\u001b[0mshape\u001b[0m\u001b[1;33m\u001b[0m\u001b[1;33m\u001b[0m\u001b[0m\n\u001b[0m\u001b[0;32m      2\u001b[0m \u001b[1;31m#assert (rf.classes_ == submission_format.columns).all()\u001b[0m\u001b[1;33m\u001b[0m\u001b[1;33m\u001b[0m\u001b[1;33m\u001b[0m\u001b[0m\n",
      "\u001b[1;31mAssertionError\u001b[0m: "
     ]
    }
   ],
   "source": [
    "assert submission_format.shape == probas.shape\n",
    "#assert (rf.classes_ == submission_format.columns).all()"
   ]
  },
  {
   "cell_type": "code",
   "execution_count": null,
   "metadata": {},
   "outputs": [],
   "source": []
  }
 ],
 "metadata": {
  "kernelspec": {
   "display_name": "Python 3",
   "language": "python",
   "name": "python3"
  },
  "language_info": {
   "codemirror_mode": {
    "name": "ipython",
    "version": 3
   },
   "file_extension": ".py",
   "mimetype": "text/x-python",
   "name": "python",
   "nbconvert_exporter": "python",
   "pygments_lexer": "ipython3",
   "version": "3.8.6"
  }
 },
 "nbformat": 4,
 "nbformat_minor": 4
}
